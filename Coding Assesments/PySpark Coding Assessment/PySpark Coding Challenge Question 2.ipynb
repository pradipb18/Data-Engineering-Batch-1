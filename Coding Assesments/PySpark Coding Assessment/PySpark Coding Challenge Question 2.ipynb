{
 "cells": [
  {
   "cell_type": "code",
   "execution_count": 44,
   "id": "391eaa6b",
   "metadata": {},
   "outputs": [],
   "source": [
    "from pyspark.sql import SparkSession\n",
    "import pandas as pd"
   ]
  },
  {
   "cell_type": "code",
   "execution_count": 45,
   "id": "e208d60d",
   "metadata": {},
   "outputs": [],
   "source": [
    "spark=SparkSession.builder.appName(\"Question 2\").getOrCreate()"
   ]
  },
  {
   "cell_type": "code",
   "execution_count": 46,
   "id": "49492373",
   "metadata": {},
   "outputs": [],
   "source": [
    "emp = [(1,\"Pradip\",2,\"2018\",\"10\",\"M\",3000),(2, \"Vedant\",1 , \"2010\", \"20\",\"M\", 4000),(3,\"Vikrant\",1,\"2010\",\"10\",\"M\",1000),(4, \"Rutuja\",2 ,\"2005\",\"10\",\"F\",2000),(5,\"Vinay\",2,\"2010\",\"40\",\"\",3000),(6, \"Abhishek\", 2, \"2010\",\"50\",\"\",1000)]"
   ]
  },
  {
   "cell_type": "code",
   "execution_count": 47,
   "id": "f0c805d4",
   "metadata": {},
   "outputs": [],
   "source": [
    "empColumns = [\"emp_id\",\"name\",\"superior_emp_id\",\"year_joined\", \"emp_dept_id\",\"gender\",\"salary\"]"
   ]
  },
  {
   "cell_type": "code",
   "execution_count": 48,
   "id": "b9dba8d4",
   "metadata": {},
   "outputs": [
    {
     "name": "stdout",
     "output_type": "stream",
     "text": [
      "root\n",
      " |-- emp_id: long (nullable = true)\n",
      " |-- name: string (nullable = true)\n",
      " |-- superior_emp_id: long (nullable = true)\n",
      " |-- year_joined: string (nullable = true)\n",
      " |-- emp_dept_id: string (nullable = true)\n",
      " |-- gender: string (nullable = true)\n",
      " |-- salary: long (nullable = true)\n",
      "\n",
      "+------+--------+---------------+-----------+-----------+------+------+\n",
      "|emp_id|    name|superior_emp_id|year_joined|emp_dept_id|gender|salary|\n",
      "+------+--------+---------------+-----------+-----------+------+------+\n",
      "|     1|  Pradip|              2|       2018|         10|     M|  3000|\n",
      "|     2|  Vedant|              1|       2010|         20|     M|  4000|\n",
      "|     3| Vikrant|              1|       2010|         10|     M|  1000|\n",
      "|     4|  Rutuja|              2|       2005|         10|     F|  2000|\n",
      "|     5|   Vinay|              2|       2010|         40|      |  3000|\n",
      "|     6|Abhishek|              2|       2010|         50|      |  1000|\n",
      "+------+--------+---------------+-----------+-----------+------+------+\n",
      "\n"
     ]
    }
   ],
   "source": [
    "empDF = spark.createDataFrame(data=emp, schema = empColumns)\n",
    "empDF.printSchema()\n",
    "empDF.show()"
   ]
  },
  {
   "cell_type": "code",
   "execution_count": 49,
   "id": "b5d0c270",
   "metadata": {},
   "outputs": [],
   "source": [
    "dept = [(\"Finance\",10),(\"Marketing\",20),(\"Sales\",30),(\"IT\",40)]\n",
    "deptColumns = [\"dept_name\",\"dept_id\"]"
   ]
  },
  {
   "cell_type": "code",
   "execution_count": 50,
   "id": "d4b0cc47",
   "metadata": {},
   "outputs": [
    {
     "name": "stdout",
     "output_type": "stream",
     "text": [
      "root\n",
      " |-- dept_name: string (nullable = true)\n",
      " |-- dept_id: long (nullable = true)\n",
      "\n",
      "+---------+-------+\n",
      "|dept_name|dept_id|\n",
      "+---------+-------+\n",
      "|  Finance|     10|\n",
      "|Marketing|     20|\n",
      "|    Sales|     30|\n",
      "|       IT|     40|\n",
      "+---------+-------+\n",
      "\n"
     ]
    }
   ],
   "source": [
    "deptDF = spark.createDataFrame(data=dept, schema = deptColumns)\n",
    "deptDF.printSchema()\n",
    "deptDF.show()"
   ]
  },
  {
   "cell_type": "code",
   "execution_count": 51,
   "id": "c9768a68",
   "metadata": {},
   "outputs": [
    {
     "name": "stdout",
     "output_type": "stream",
     "text": [
      "Inner Join:\n",
      "+------+-------+---------------+-----------+-----------+------+------+---------+-------+\n",
      "|emp_id|   name|superior_emp_id|year_joined|emp_dept_id|gender|salary|dept_name|dept_id|\n",
      "+------+-------+---------------+-----------+-----------+------+------+---------+-------+\n",
      "|     1| Pradip|              2|       2018|         10|     M|  3000|  Finance|     10|\n",
      "|     3|Vikrant|              1|       2010|         10|     M|  1000|  Finance|     10|\n",
      "|     4| Rutuja|              2|       2005|         10|     F|  2000|  Finance|     10|\n",
      "|     2| Vedant|              1|       2010|         20|     M|  4000|Marketing|     20|\n",
      "|     5|  Vinay|              2|       2010|         40|      |  3000|       IT|     40|\n",
      "+------+-------+---------------+-----------+-----------+------+------+---------+-------+\n",
      "\n"
     ]
    }
   ],
   "source": [
    "#inner join\n",
    "print(\"Inner Join:\")\n",
    "inner_join=empDF.join(deptDF,empDF.emp_dept_id ==  deptDF.dept_id,\"inner\") .show()"
   ]
  },
  {
   "cell_type": "code",
   "execution_count": 52,
   "id": "309c93d4",
   "metadata": {},
   "outputs": [
    {
     "name": "stdout",
     "output_type": "stream",
     "text": [
      "Outer Join:\n",
      "+------+--------+---------------+-----------+-----------+------+------+---------+-------+\n",
      "|emp_id|    name|superior_emp_id|year_joined|emp_dept_id|gender|salary|dept_name|dept_id|\n",
      "+------+--------+---------------+-----------+-----------+------+------+---------+-------+\n",
      "|     1|  Pradip|              2|       2018|         10|     M|  3000|  Finance|     10|\n",
      "|     3| Vikrant|              1|       2010|         10|     M|  1000|  Finance|     10|\n",
      "|     4|  Rutuja|              2|       2005|         10|     F|  2000|  Finance|     10|\n",
      "|     2|  Vedant|              1|       2010|         20|     M|  4000|Marketing|     20|\n",
      "|  NULL|    NULL|           NULL|       NULL|       NULL|  NULL|  NULL|    Sales|     30|\n",
      "|     5|   Vinay|              2|       2010|         40|      |  3000|       IT|     40|\n",
      "|     6|Abhishek|              2|       2010|         50|      |  1000|     NULL|   NULL|\n",
      "+------+--------+---------------+-----------+-----------+------+------+---------+-------+\n",
      "\n"
     ]
    }
   ],
   "source": [
    "#outer join\n",
    "print(\"Outer Join:\")\n",
    "outer_join=empDF.join(deptDF,empDF.emp_dept_id ==  deptDF.dept_id,\"outer\").show()"
   ]
  },
  {
   "cell_type": "code",
   "execution_count": 53,
   "id": "e920e588",
   "metadata": {},
   "outputs": [
    {
     "name": "stdout",
     "output_type": "stream",
     "text": [
      "Left Join:\n",
      "+------+--------+---------------+-----------+-----------+------+------+---------+-------+\n",
      "|emp_id|    name|superior_emp_id|year_joined|emp_dept_id|gender|salary|dept_name|dept_id|\n",
      "+------+--------+---------------+-----------+-----------+------+------+---------+-------+\n",
      "|     1|  Pradip|              2|       2018|         10|     M|  3000|  Finance|     10|\n",
      "|     2|  Vedant|              1|       2010|         20|     M|  4000|Marketing|     20|\n",
      "|     3| Vikrant|              1|       2010|         10|     M|  1000|  Finance|     10|\n",
      "|     4|  Rutuja|              2|       2005|         10|     F|  2000|  Finance|     10|\n",
      "|     5|   Vinay|              2|       2010|         40|      |  3000|       IT|     40|\n",
      "|     6|Abhishek|              2|       2010|         50|      |  1000|     NULL|   NULL|\n",
      "+------+--------+---------------+-----------+-----------+------+------+---------+-------+\n",
      "\n"
     ]
    }
   ],
   "source": [
    "#left join\n",
    "print(\"Left Join:\")\n",
    "left_join=empDF.join(deptDF,empDF.emp_dept_id ==  deptDF.dept_id,\"left\").show()"
   ]
  },
  {
   "cell_type": "code",
   "execution_count": 54,
   "id": "06ffa841",
   "metadata": {},
   "outputs": [
    {
     "name": "stdout",
     "output_type": "stream",
     "text": [
      "Right Join:\n",
      "+------+-------+---------------+-----------+-----------+------+------+---------+-------+\n",
      "|emp_id|   name|superior_emp_id|year_joined|emp_dept_id|gender|salary|dept_name|dept_id|\n",
      "+------+-------+---------------+-----------+-----------+------+------+---------+-------+\n",
      "|     4| Rutuja|              2|       2005|         10|     F|  2000|  Finance|     10|\n",
      "|     3|Vikrant|              1|       2010|         10|     M|  1000|  Finance|     10|\n",
      "|     1| Pradip|              2|       2018|         10|     M|  3000|  Finance|     10|\n",
      "|     2| Vedant|              1|       2010|         20|     M|  4000|Marketing|     20|\n",
      "|  NULL|   NULL|           NULL|       NULL|       NULL|  NULL|  NULL|    Sales|     30|\n",
      "|     5|  Vinay|              2|       2010|         40|      |  3000|       IT|     40|\n",
      "+------+-------+---------------+-----------+-----------+------+------+---------+-------+\n",
      "\n"
     ]
    }
   ],
   "source": [
    "#right join\n",
    "print(\"Right Join:\")\n",
    "right_join=empDF.join(deptDF,empDF.emp_dept_id ==  deptDF.dept_id,\"right\").show()"
   ]
  },
  {
   "cell_type": "code",
   "execution_count": 55,
   "id": "811edfee",
   "metadata": {},
   "outputs": [
    {
     "name": "stdout",
     "output_type": "stream",
     "text": [
      "Leftsemi Join:\n",
      "+------+-------+---------------+-----------+-----------+------+------+\n",
      "|emp_id|   name|superior_emp_id|year_joined|emp_dept_id|gender|salary|\n",
      "+------+-------+---------------+-----------+-----------+------+------+\n",
      "|     1| Pradip|              2|       2018|         10|     M|  3000|\n",
      "|     3|Vikrant|              1|       2010|         10|     M|  1000|\n",
      "|     4| Rutuja|              2|       2005|         10|     F|  2000|\n",
      "|     2| Vedant|              1|       2010|         20|     M|  4000|\n",
      "|     5|  Vinay|              2|       2010|         40|      |  3000|\n",
      "+------+-------+---------------+-----------+-----------+------+------+\n",
      "\n"
     ]
    }
   ],
   "source": [
    "#Leftsemi Join\n",
    "print(\"Leftsemi Join:\")\n",
    "leftsemi_join=empDF.join(deptDF,empDF.emp_dept_id ==  deptDF.dept_id,\"leftsemi\").show()"
   ]
  },
  {
   "cell_type": "code",
   "execution_count": 56,
   "id": "8f694bde",
   "metadata": {},
   "outputs": [
    {
     "name": "stdout",
     "output_type": "stream",
     "text": [
      "Left Anti Join:\n",
      "+------+--------+---------------+-----------+-----------+------+------+\n",
      "|emp_id|    name|superior_emp_id|year_joined|emp_dept_id|gender|salary|\n",
      "+------+--------+---------------+-----------+-----------+------+------+\n",
      "|     6|Abhishek|              2|       2010|         50|      |  1000|\n",
      "+------+--------+---------------+-----------+-----------+------+------+\n",
      "\n"
     ]
    }
   ],
   "source": [
    "#Left Anti Join\n",
    "print(\"Left Anti Join:\")\n",
    "left_anti_join=empDF.join(deptDF,empDF.emp_dept_id ==  deptDF.dept_id,\"leftanti\").show()"
   ]
  },
  {
   "cell_type": "code",
   "execution_count": 57,
   "id": "8c93d3af",
   "metadata": {},
   "outputs": [],
   "source": [
    "inner_join_pd = empDF.join(deptDF, empDF.emp_dept_id == deptDF.dept_id, \"inner\").toPandas()"
   ]
  },
  {
   "cell_type": "code",
   "execution_count": 58,
   "id": "d2fc091c",
   "metadata": {},
   "outputs": [
    {
     "name": "stdout",
     "output_type": "stream",
     "text": [
      "Inner join dataframe with applied function:\n",
      "   emp_id     name  superior_emp_id year_joined emp_dept_id gender  salary  \\\n",
      "0       1   Pradip                2        2018          10      M    3000   \n",
      "1       3  Vikrant                1        2010          10      M    1000   \n",
      "2       4   Rutuja                2        2005          10      F    2000   \n",
      "3       2   Vedant                1        2010          20      M    4000   \n",
      "4       5    Vinay                2        2010          40           3000   \n",
      "\n",
      "   dept_name  dept_id employee_department  \n",
      "0    Finance       10    Pradip - Finance  \n",
      "1    Finance       10   Vikrant - Finance  \n",
      "2    Finance       10    Rutuja - Finance  \n",
      "3  Marketing       20  Vedant - Marketing  \n",
      "4         IT       40          Vinay - IT  \n"
     ]
    }
   ],
   "source": [
    "# Defining  function to apply pandas dataframe\n",
    "def custom_function(row):\n",
    "    return f\"{row['name']} - {row['dept_name']}\"\n",
    "\n",
    "# Appling custom function to pandas dataframe\n",
    "inner_join_pd['employee_department'] = inner_join_pd.apply(custom_function, axis=1)\n",
    "\n",
    "print(\"Inner join dataframe with applied function:\")\n",
    "print(inner_join_pd)"
   ]
  },
  {
   "cell_type": "code",
   "execution_count": null,
   "id": "f7799063",
   "metadata": {},
   "outputs": [],
   "source": []
  }
 ],
 "metadata": {
  "kernelspec": {
   "display_name": "Python 3 (ipykernel)",
   "language": "python",
   "name": "python3"
  },
  "language_info": {
   "codemirror_mode": {
    "name": "ipython",
    "version": 3
   },
   "file_extension": ".py",
   "mimetype": "text/x-python",
   "name": "python",
   "nbconvert_exporter": "python",
   "pygments_lexer": "ipython3",
   "version": "3.11.5"
  }
 },
 "nbformat": 4,
 "nbformat_minor": 5
}
