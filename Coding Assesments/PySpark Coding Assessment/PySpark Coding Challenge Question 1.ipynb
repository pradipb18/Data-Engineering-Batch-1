{
 "cells": [
  {
   "cell_type": "code",
   "execution_count": 29,
   "id": "cca1bb31",
   "metadata": {},
   "outputs": [],
   "source": [
    "from pyspark.sql import SparkSession\n",
    "from pyspark.sql.functions import col"
   ]
  },
  {
   "cell_type": "code",
   "execution_count": 30,
   "id": "24109145",
   "metadata": {},
   "outputs": [],
   "source": [
    "spark = SparkSession.builder \\\n",
    "    .appName(\"Question 1\") \\\n",
    "    .getOrCreate()"
   ]
  },
  {
   "cell_type": "code",
   "execution_count": 31,
   "id": "ed509be0",
   "metadata": {},
   "outputs": [],
   "source": [
    "data1 = [(\"Pradip\", 24, \"Pune\"),\n",
    "         (\"Rutuja\", 26, \"Chennai\"),\n",
    "         (\"Vinay\", 25, \"Delhi\")]"
   ]
  },
  {
   "cell_type": "code",
   "execution_count": 32,
   "id": "64916a02",
   "metadata": {},
   "outputs": [],
   "source": [
    "data2 = [(\"Pradip\", \"Male\"),\n",
    "         (\"Rutuja\", \"Female\"),\n",
    "         (\"Vinay\", \"Male\")]"
   ]
  },
  {
   "cell_type": "code",
   "execution_count": 33,
   "id": "acce9eff",
   "metadata": {},
   "outputs": [],
   "source": [
    "column1 = [\"Name\", \"Age\", \"City\"]"
   ]
  },
  {
   "cell_type": "code",
   "execution_count": 34,
   "id": "b149050e",
   "metadata": {},
   "outputs": [],
   "source": [
    "column2 = [\"Name\", \"Gender\"]"
   ]
  },
  {
   "cell_type": "code",
   "execution_count": 35,
   "id": "70d6413f",
   "metadata": {},
   "outputs": [],
   "source": [
    "df1 = spark.createDataFrame(data=data1,schema=column1)\n",
    "df2 = spark.createDataFrame(data=data2,schema=column2)"
   ]
  },
  {
   "cell_type": "code",
   "execution_count": 36,
   "id": "bbff96fa",
   "metadata": {},
   "outputs": [
    {
     "name": "stdout",
     "output_type": "stream",
     "text": [
      "Schema of DataFrame 1:\n",
      "root\n",
      " |-- Name: string (nullable = true)\n",
      " |-- Age: long (nullable = true)\n",
      " |-- City: string (nullable = true)\n",
      "\n",
      "\n",
      "Schema of DataFrame 2:\n",
      "root\n",
      " |-- Name: string (nullable = true)\n",
      " |-- Gender: string (nullable = true)\n",
      "\n"
     ]
    }
   ],
   "source": [
    "print(\"Schema of DataFrame 1:\")\n",
    "df1.printSchema()\n",
    "print(\"\\nSchema of DataFrame 2:\")\n",
    "df2.printSchema()"
   ]
  },
  {
   "cell_type": "code",
   "execution_count": 37,
   "id": "4476b25c",
   "metadata": {},
   "outputs": [
    {
     "name": "stdout",
     "output_type": "stream",
     "text": [
      "+------+---+-------+\n",
      "|  Name|Age|   City|\n",
      "+------+---+-------+\n",
      "|Pradip| 24|   Pune|\n",
      "|Rutuja| 26|Chennai|\n",
      "| Vinay| 25|  Delhi|\n",
      "+------+---+-------+\n",
      "\n",
      "+------+------+\n",
      "|  Name|Gender|\n",
      "+------+------+\n",
      "|Pradip|  Male|\n",
      "|Rutuja|Female|\n",
      "| Vinay|  Male|\n",
      "+------+------+\n",
      "\n"
     ]
    }
   ],
   "source": [
    "df1.show()\n",
    "df2.show()"
   ]
  },
  {
   "cell_type": "code",
   "execution_count": 38,
   "id": "7c400669",
   "metadata": {},
   "outputs": [
    {
     "name": "stdout",
     "output_type": "stream",
     "text": [
      "df1 after manipulating:\n",
      "+------+---+--------+\n",
      "|  Name|Age|Location|\n",
      "+------+---+--------+\n",
      "|Pradip| 24|    Pune|\n",
      "|Rutuja| 26| Chennai|\n",
      "| Vinay| 25|   Delhi|\n",
      "+------+---+--------+\n",
      "\n"
     ]
    }
   ],
   "source": [
    "# manipulating dataframe\n",
    "print(\"df1 after manipulating:\")\n",
    "df1.withColumnRenamed(\"City\",\"Location\").show()"
   ]
  },
  {
   "cell_type": "code",
   "execution_count": 39,
   "id": "d60939c9",
   "metadata": {},
   "outputs": [
    {
     "name": "stdout",
     "output_type": "stream",
     "text": [
      "df1 after sorting:\n",
      "+------+---+-------+\n",
      "|  Name|Age|   City|\n",
      "+------+---+-------+\n",
      "|Pradip| 24|   Pune|\n",
      "| Vinay| 25|  Delhi|\n",
      "|Rutuja| 26|Chennai|\n",
      "+------+---+-------+\n",
      "\n"
     ]
    }
   ],
   "source": [
    "# sorting dataframe\n",
    "print(\"df1 after sorting:\")\n",
    "df1_sorted = df1.orderBy(\"Age\").show()"
   ]
  },
  {
   "cell_type": "code",
   "execution_count": 40,
   "id": "a3f21ded",
   "metadata": {},
   "outputs": [
    {
     "name": "stdout",
     "output_type": "stream",
     "text": [
      "aggregated df1:\n",
      "+------+-----+\n",
      "|  Name|count|\n",
      "+------+-----+\n",
      "|Pradip|    1|\n",
      "|Rutuja|    1|\n",
      "| Vinay|    1|\n",
      "+------+-----+\n",
      "\n"
     ]
    }
   ],
   "source": [
    "# aggregations\n",
    "print(\"aggregated df1:\")\n",
    "df1_agg = df1.groupBy(\"Name\").count().show()"
   ]
  },
  {
   "cell_type": "code",
   "execution_count": 41,
   "id": "ef86ebf2",
   "metadata": {},
   "outputs": [
    {
     "name": "stdout",
     "output_type": "stream",
     "text": [
      "Joined Dataframe:\n",
      "+------+---+-------+------+\n",
      "|  Name|Age|   City|Gender|\n",
      "+------+---+-------+------+\n",
      "|Pradip| 24|   Pune|  Male|\n",
      "|Rutuja| 26|Chennai|Female|\n",
      "| Vinay| 25|  Delhi|  Male|\n",
      "+------+---+-------+------+\n",
      "\n"
     ]
    }
   ],
   "source": [
    "# Joining Dataframes\n",
    "print(\"Joined Dataframe:\")\n",
    "joined_df = df1.join(df2, on=\"Name\", how=\"inner\").show()"
   ]
  },
  {
   "cell_type": "code",
   "execution_count": 45,
   "id": "b01f8505",
   "metadata": {},
   "outputs": [
    {
     "name": "stdout",
     "output_type": "stream",
     "text": [
      "+--------+----------+--------+\n",
      "|Emp Name|Age (Year)|Location|\n",
      "+--------+----------+--------+\n",
      "|  Pradip|        24|    Pune|\n",
      "|  Rutuja|        26| Chennai|\n",
      "|   Vinay|        25|   Delhi|\n",
      "+--------+----------+--------+\n",
      "\n"
     ]
    }
   ],
   "source": [
    "Data_list = [\"Emp Name\",\"Age (Year)\",\"Location\"]\n",
    " \n",
    "new_df = df1.toDF(*Data_list)\n",
    "new_df.show()"
   ]
  },
  {
   "cell_type": "code",
   "execution_count": 46,
   "id": "c8b0f17d",
   "metadata": {},
   "outputs": [
    {
     "name": "stdout",
     "output_type": "stream",
     "text": [
      "df2 after dropping column Gender:\n",
      "+------+\n",
      "|  Name|\n",
      "+------+\n",
      "|Pradip|\n",
      "|Rutuja|\n",
      "| Vinay|\n",
      "+------+\n",
      "\n"
     ]
    }
   ],
   "source": [
    "# Dropping column from DataFrame\n",
    "print(\"df2 after dropping column Gender:\")\n",
    "df2 = df2.drop(\"Gender\").show()"
   ]
  },
  {
   "cell_type": "code",
   "execution_count": null,
   "id": "f49e8834",
   "metadata": {},
   "outputs": [],
   "source": []
  }
 ],
 "metadata": {
  "kernelspec": {
   "display_name": "Python 3 (ipykernel)",
   "language": "python",
   "name": "python3"
  },
  "language_info": {
   "codemirror_mode": {
    "name": "ipython",
    "version": 3
   },
   "file_extension": ".py",
   "mimetype": "text/x-python",
   "name": "python",
   "nbconvert_exporter": "python",
   "pygments_lexer": "ipython3",
   "version": "3.11.5"
  }
 },
 "nbformat": 4,
 "nbformat_minor": 5
}
