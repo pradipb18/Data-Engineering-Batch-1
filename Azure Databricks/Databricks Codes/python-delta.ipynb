{
 "cells": [
  {
   "cell_type": "code",
   "execution_count": 0,
   "metadata": {
    "application/vnd.databricks.v1+cell": {
     "cellMetadata": {
      "byteLimit": 2048000,
      "rowLimit": 10000
     },
     "inputWidgets": {},
     "nuid": "8ed7aabe-bac1-494f-a69c-7b9906157cca",
     "showTitle": false,
     "title": ""
    }
   },
   "outputs": [],
   "source": [
    "import pyspark\n",
    "from delta import *"
   ]
  },
  {
   "cell_type": "code",
   "execution_count": 0,
   "metadata": {
    "application/vnd.databricks.v1+cell": {
     "cellMetadata": {
      "byteLimit": 2048000,
      "rowLimit": 10000
     },
     "inputWidgets": {},
     "nuid": "a8f22304-892a-4370-adf0-3be62da90f58",
     "showTitle": false,
     "title": ""
    }
   },
   "outputs": [],
   "source": [
    "builder = pyspark.sql.SparkSession.builder.appName(\"MyApp\") \\\n",
    "    .config(\"spark.sql.extensions\", \"io.delta.sql.DeltaSparkSessionExtension\") \\\n",
    "    .config(\"spark.sql.catalog.spark_catalog\", \"org.apache.spark.sql.delta.catalog.DeltaCatalog\")"
   ]
  },
  {
   "cell_type": "code",
   "execution_count": 0,
   "metadata": {
    "application/vnd.databricks.v1+cell": {
     "cellMetadata": {
      "byteLimit": 2048000,
      "rowLimit": 10000
     },
     "inputWidgets": {},
     "nuid": "80b5c8c6-9a84-41ca-b943-3783b1c00333",
     "showTitle": false,
     "title": ""
    }
   },
   "outputs": [],
   "source": [
    "spark = configure_spark_with_delta_pip(builder).getOrCreate()"
   ]
  },
  {
   "cell_type": "code",
   "execution_count": 0,
   "metadata": {
    "application/vnd.databricks.v1+cell": {
     "cellMetadata": {
      "byteLimit": 2048000,
      "rowLimit": 10000
     },
     "inputWidgets": {},
     "nuid": "8f64f710-b291-47c4-9347-77bfe9a4147b",
     "showTitle": false,
     "title": ""
    }
   },
   "outputs": [],
   "source": [
    "data = spark.range(0, 5)\n",
    "data.write.format(\"delta\").save(\"/tmp/delta-table\")"
   ]
  },
  {
   "cell_type": "code",
   "execution_count": 0,
   "metadata": {
    "application/vnd.databricks.v1+cell": {
     "cellMetadata": {
      "byteLimit": 2048000,
      "rowLimit": 10000
     },
     "inputWidgets": {},
     "nuid": "2bff24c2-27ed-46a5-9119-fa8679412540",
     "showTitle": false,
     "title": ""
    }
   },
   "outputs": [
    {
     "output_type": "stream",
     "name": "stdout",
     "output_type": "stream",
     "text": [
      "+---+\n| id|\n+---+\n|  3|\n|  4|\n|  0|\n|  1|\n|  2|\n+---+\n\n"
     ]
    },
    {
     "output_type": "display_data",
     "data": {
      "text/html": [
       "<style scoped>\n",
       "  .table-result-container {\n",
       "    max-height: 300px;\n",
       "    overflow: auto;\n",
       "  }\n",
       "  table, th, td {\n",
       "    border: 1px solid black;\n",
       "    border-collapse: collapse;\n",
       "  }\n",
       "  th, td {\n",
       "    padding: 5px;\n",
       "  }\n",
       "  th {\n",
       "    text-align: left;\n",
       "  }\n",
       "</style><div class='table-result-container'><table class='table-result'><thead style='background-color: white'><tr><th>id</th></tr></thead><tbody><tr><td>3</td></tr><tr><td>4</td></tr><tr><td>0</td></tr><tr><td>1</td></tr><tr><td>2</td></tr></tbody></table></div>"
      ]
     },
     "metadata": {
      "application/vnd.databricks.v1+output": {
       "addedWidgets": {},
       "aggData": [],
       "aggError": "",
       "aggOverflow": false,
       "aggSchema": [],
       "aggSeriesLimitReached": false,
       "aggType": "",
       "arguments": {},
       "columnCustomDisplayInfos": {},
       "data": [
        [
         3
        ],
        [
         4
        ],
        [
         0
        ],
        [
         1
        ],
        [
         2
        ]
       ],
       "datasetInfos": [],
       "dbfsResultPath": null,
       "isJsonSchema": true,
       "metadata": {},
       "overflow": false,
       "plotOptions": {
        "customPlotOptions": {},
        "displayType": "table",
        "pivotAggregation": null,
        "pivotColumns": null,
        "xColumns": null,
        "yColumns": null
       },
       "removedWidgets": [],
       "schema": [
        {
         "metadata": "{}",
         "name": "id",
         "type": "\"long\""
        }
       ],
       "type": "table"
      }
     },
     "output_type": "display_data"
    }
   ],
   "source": [
    "df = spark.read.format(\"delta\").load(\"/tmp/delta-table\")\n",
    "df.show()\n",
    "display(df)"
   ]
  },
  {
   "cell_type": "code",
   "execution_count": 0,
   "metadata": {
    "application/vnd.databricks.v1+cell": {
     "cellMetadata": {
      "byteLimit": 2048000,
      "rowLimit": 10000
     },
     "inputWidgets": {},
     "nuid": "eb76b31e-3a35-4eb1-bcb3-349281456c10",
     "showTitle": false,
     "title": ""
    }
   },
   "outputs": [
    {
     "output_type": "stream",
     "name": "stdout",
     "output_type": "stream",
     "text": [
      "+---+\n| id|\n+---+\n|  8|\n|  9|\n|  5|\n|  6|\n|  7|\n+---+\n\n"
     ]
    }
   ],
   "source": [
    "data = spark.range(5, 10)\n",
    "data.write.format(\"delta\").mode(\"overwrite\").save(\"/tmp/delta-table\")\n",
    "df.show()"
   ]
  },
  {
   "cell_type": "code",
   "execution_count": 0,
   "metadata": {
    "application/vnd.databricks.v1+cell": {
     "cellMetadata": {
      "byteLimit": 2048000,
      "rowLimit": 10000
     },
     "inputWidgets": {},
     "nuid": "d2d3d188-f4b0-4b42-9a22-363b8d87ccf4",
     "showTitle": false,
     "title": ""
    }
   },
   "outputs": [],
   "source": [
    "streamingDf = spark.readStream.format(\"rate\").load()\n",
    "stream = streamingDf.selectExpr(\"value as id\").writeStream.format(\"delta\").option(\"checkpointLocation\", \"/tmp/checkpoint\").start(\"/tmp/delta-table\")"
   ]
  },
  {
   "cell_type": "code",
   "execution_count": 0,
   "metadata": {
    "application/vnd.databricks.v1+cell": {
     "cellMetadata": {
      "byteLimit": 2048000,
      "rowLimit": 10000
     },
     "inputWidgets": {},
     "nuid": "9ad80007-3a2d-4360-846d-82ecfc9f23b7",
     "showTitle": false,
     "title": ""
    }
   },
   "outputs": [],
   "source": [
    "from delta.tables import *\n",
    "from pyspark.sql.functions import *"
   ]
  },
  {
   "cell_type": "code",
   "execution_count": 0,
   "metadata": {
    "application/vnd.databricks.v1+cell": {
     "cellMetadata": {
      "byteLimit": 2048000,
      "rowLimit": 10000
     },
     "inputWidgets": {},
     "nuid": "f60a54e1-c252-465c-9ac1-0f05b44ed771",
     "showTitle": false,
     "title": ""
    }
   },
   "outputs": [],
   "source": [
    "deltaTable = DeltaTable.forPath(spark, \"/tmp/delta-table\")"
   ]
  },
  {
   "cell_type": "code",
   "execution_count": 0,
   "metadata": {
    "application/vnd.databricks.v1+cell": {
     "cellMetadata": {
      "byteLimit": 2048000,
      "rowLimit": 10000
     },
     "inputWidgets": {},
     "nuid": "3343f189-8cb7-4ee1-9e61-46b003b06b3a",
     "showTitle": false,
     "title": ""
    }
   },
   "outputs": [],
   "source": [
    "deltaTable.update(\n",
    "  condition = expr(\"id % 2 == 0\"),\n",
    "  set = { \"id\": expr(\"id + 100\") })\n"
   ]
  },
  {
   "cell_type": "code",
   "execution_count": 0,
   "metadata": {
    "application/vnd.databricks.v1+cell": {
     "cellMetadata": {
      "byteLimit": 2048000,
      "rowLimit": 10000
     },
     "inputWidgets": {},
     "nuid": "dd26eed2-d68f-4926-9429-312dc7963926",
     "showTitle": false,
     "title": ""
    }
   },
   "outputs": [
    {
     "output_type": "stream",
     "name": "stdout",
     "output_type": "stream",
     "text": [
      "+---+\n| id|\n+---+\n|291|\n|255|\n|259|\n|247|\n|303|\n|267|\n|279|\n|305|\n|271|\n|293|\n|295|\n|283|\n|307|\n|281|\n|275|\n|285|\n|287|\n|273|\n|253|\n|309|\n+---+\nonly showing top 20 rows\n\n"
     ]
    },
    {
     "output_type": "display_data",
     "data": {
      "text/html": [
       "<style scoped>\n",
       "  .table-result-container {\n",
       "    max-height: 300px;\n",
       "    overflow: auto;\n",
       "  }\n",
       "  table, th, td {\n",
       "    border: 1px solid black;\n",
       "    border-collapse: collapse;\n",
       "  }\n",
       "  th, td {\n",
       "    padding: 5px;\n",
       "  }\n",
       "  th {\n",
       "    text-align: left;\n",
       "  }\n",
       "</style><div class='table-result-container'><table class='table-result'><thead style='background-color: white'><tr><th>id</th></tr></thead><tbody><tr><td>5</td></tr><tr><td>106</td></tr><tr><td>108</td></tr><tr><td>100</td></tr><tr><td>102</td></tr><tr><td>104</td></tr><tr><td>106</td></tr><tr><td>108</td></tr><tr><td>110</td></tr><tr><td>112</td></tr><tr><td>114</td></tr><tr><td>116</td></tr><tr><td>118</td></tr><tr><td>120</td></tr><tr><td>122</td></tr><tr><td>124</td></tr><tr><td>126</td></tr><tr><td>128</td></tr><tr><td>130</td></tr><tr><td>132</td></tr><tr><td>134</td></tr><tr><td>136</td></tr><tr><td>138</td></tr><tr><td>140</td></tr><tr><td>142</td></tr><tr><td>144</td></tr><tr><td>146</td></tr><tr><td>148</td></tr><tr><td>150</td></tr><tr><td>152</td></tr><tr><td>154</td></tr><tr><td>156</td></tr><tr><td>158</td></tr><tr><td>7</td></tr><tr><td>9</td></tr><tr><td>1</td></tr><tr><td>3</td></tr><tr><td>5</td></tr><tr><td>7</td></tr><tr><td>9</td></tr><tr><td>11</td></tr><tr><td>13</td></tr><tr><td>15</td></tr><tr><td>17</td></tr><tr><td>19</td></tr><tr><td>21</td></tr><tr><td>23</td></tr><tr><td>25</td></tr><tr><td>27</td></tr><tr><td>29</td></tr><tr><td>31</td></tr><tr><td>33</td></tr><tr><td>35</td></tr><tr><td>37</td></tr><tr><td>39</td></tr><tr><td>41</td></tr><tr><td>43</td></tr><tr><td>45</td></tr><tr><td>47</td></tr><tr><td>49</td></tr><tr><td>51</td></tr><tr><td>53</td></tr><tr><td>55</td></tr><tr><td>57</td></tr><tr><td>59</td></tr><tr><td>160</td></tr><tr><td>162</td></tr><tr><td>164</td></tr><tr><td>166</td></tr><tr><td>168</td></tr><tr><td>170</td></tr><tr><td>172</td></tr><tr><td>174</td></tr><tr><td>176</td></tr><tr><td>178</td></tr><tr><td>180</td></tr><tr><td>182</td></tr><tr><td>184</td></tr><tr><td>186</td></tr><tr><td>188</td></tr><tr><td>190</td></tr><tr><td>192</td></tr><tr><td>194</td></tr><tr><td>196</td></tr><tr><td>198</td></tr><tr><td>200</td></tr><tr><td>202</td></tr><tr><td>204</td></tr><tr><td>206</td></tr><tr><td>208</td></tr><tr><td>210</td></tr><tr><td>212</td></tr><tr><td>214</td></tr><tr><td>216</td></tr><tr><td>218</td></tr><tr><td>220</td></tr><tr><td>222</td></tr><tr><td>61</td></tr><tr><td>63</td></tr><tr><td>65</td></tr><tr><td>67</td></tr><tr><td>69</td></tr><tr><td>71</td></tr><tr><td>73</td></tr><tr><td>75</td></tr><tr><td>77</td></tr><tr><td>79</td></tr><tr><td>81</td></tr><tr><td>83</td></tr><tr><td>85</td></tr><tr><td>87</td></tr><tr><td>89</td></tr><tr><td>91</td></tr><tr><td>93</td></tr><tr><td>95</td></tr><tr><td>97</td></tr><tr><td>99</td></tr><tr><td>101</td></tr><tr><td>103</td></tr><tr><td>105</td></tr><tr><td>107</td></tr><tr><td>109</td></tr><tr><td>111</td></tr><tr><td>113</td></tr><tr><td>115</td></tr><tr><td>117</td></tr><tr><td>119</td></tr><tr><td>121</td></tr><tr><td>123</td></tr><tr><td>224</td></tr><tr><td>226</td></tr><tr><td>228</td></tr><tr><td>230</td></tr><tr><td>232</td></tr><tr><td>234</td></tr><tr><td>236</td></tr><tr><td>238</td></tr><tr><td>240</td></tr><tr><td>242</td></tr><tr><td>244</td></tr><tr><td>246</td></tr><tr><td>248</td></tr><tr><td>250</td></tr><tr><td>252</td></tr><tr><td>254</td></tr><tr><td>256</td></tr><tr><td>258</td></tr><tr><td>260</td></tr><tr><td>262</td></tr><tr><td>264</td></tr><tr><td>266</td></tr><tr><td>268</td></tr><tr><td>270</td></tr><tr><td>272</td></tr><tr><td>274</td></tr><tr><td>276</td></tr><tr><td>278</td></tr><tr><td>280</td></tr><tr><td>282</td></tr><tr><td>284</td></tr><tr><td>286</td></tr><tr><td>125</td></tr><tr><td>127</td></tr><tr><td>129</td></tr><tr><td>131</td></tr><tr><td>133</td></tr><tr><td>135</td></tr><tr><td>137</td></tr><tr><td>139</td></tr><tr><td>141</td></tr><tr><td>143</td></tr><tr><td>145</td></tr><tr><td>147</td></tr><tr><td>149</td></tr><tr><td>151</td></tr><tr><td>153</td></tr><tr><td>155</td></tr><tr><td>157</td></tr><tr><td>159</td></tr><tr><td>161</td></tr><tr><td>163</td></tr><tr><td>165</td></tr><tr><td>167</td></tr><tr><td>169</td></tr><tr><td>171</td></tr><tr><td>173</td></tr><tr><td>175</td></tr><tr><td>177</td></tr><tr><td>179</td></tr><tr><td>181</td></tr><tr><td>183</td></tr><tr><td>185</td></tr><tr><td>187</td></tr><tr><td>288</td></tr><tr><td>290</td></tr><tr><td>292</td></tr><tr><td>294</td></tr><tr><td>296</td></tr><tr><td>298</td></tr><tr><td>300</td></tr><tr><td>302</td></tr><tr><td>304</td></tr><tr><td>306</td></tr><tr><td>308</td></tr><tr><td>310</td></tr><tr><td>312</td></tr><tr><td>314</td></tr><tr><td>316</td></tr><tr><td>318</td></tr><tr><td>320</td></tr><tr><td>322</td></tr><tr><td>324</td></tr><tr><td>326</td></tr><tr><td>328</td></tr><tr><td>330</td></tr><tr><td>332</td></tr><tr><td>334</td></tr><tr><td>336</td></tr><tr><td>338</td></tr><tr><td>340</td></tr><tr><td>342</td></tr><tr><td>344</td></tr><tr><td>346</td></tr><tr><td>348</td></tr><tr><td>350</td></tr><tr><td>189</td></tr><tr><td>193</td></tr><tr><td>191</td></tr><tr><td>195</td></tr><tr><td>197</td></tr><tr><td>199</td></tr><tr><td>201</td></tr><tr><td>203</td></tr><tr><td>205</td></tr><tr><td>207</td></tr><tr><td>209</td></tr><tr><td>211</td></tr><tr><td>213</td></tr><tr><td>215</td></tr><tr><td>217</td></tr><tr><td>219</td></tr><tr><td>221</td></tr><tr><td>223</td></tr><tr><td>225</td></tr><tr><td>227</td></tr><tr><td>229</td></tr><tr><td>231</td></tr><tr><td>233</td></tr><tr><td>235</td></tr><tr><td>237</td></tr><tr><td>239</td></tr><tr><td>241</td></tr><tr><td>243</td></tr><tr><td>352</td></tr><tr><td>354</td></tr><tr><td>356</td></tr><tr><td>358</td></tr><tr><td>360</td></tr><tr><td>362</td></tr><tr><td>364</td></tr><tr><td>366</td></tr><tr><td>368</td></tr><tr><td>370</td></tr><tr><td>372</td></tr><tr><td>374</td></tr><tr><td>376</td></tr><tr><td>378</td></tr><tr><td>380</td></tr><tr><td>382</td></tr><tr><td>384</td></tr><tr><td>386</td></tr><tr><td>388</td></tr><tr><td>390</td></tr><tr><td>392</td></tr><tr><td>394</td></tr><tr><td>396</td></tr><tr><td>398</td></tr><tr><td>400</td></tr><tr><td>402</td></tr><tr><td>404</td></tr><tr><td>406</td></tr><tr><td>408</td></tr><tr><td>410</td></tr><tr><td>412</td></tr><tr><td>414</td></tr><tr><td>416</td></tr><tr><td>418</td></tr><tr><td>420</td></tr><tr><td>422</td></tr><tr><td>424</td></tr><tr><td>426</td></tr><tr><td>428</td></tr><tr><td>430</td></tr><tr><td>432</td></tr><tr><td>434</td></tr><tr><td>436</td></tr><tr><td>438</td></tr><tr><td>440</td></tr><tr><td>442</td></tr><tr><td>444</td></tr><tr><td>446</td></tr><tr><td>448</td></tr><tr><td>450</td></tr><tr><td>452</td></tr><tr><td>454</td></tr><tr><td>456</td></tr><tr><td>458</td></tr><tr><td>460</td></tr><tr><td>462</td></tr><tr><td>464</td></tr><tr><td>466</td></tr><tr><td>468</td></tr><tr><td>470</td></tr><tr><td>291</td></tr><tr><td>255</td></tr><tr><td>259</td></tr><tr><td>247</td></tr><tr><td>303</td></tr><tr><td>267</td></tr><tr><td>279</td></tr><tr><td>305</td></tr><tr><td>271</td></tr><tr><td>293</td></tr><tr><td>295</td></tr><tr><td>283</td></tr><tr><td>307</td></tr><tr><td>281</td></tr><tr><td>275</td></tr><tr><td>285</td></tr><tr><td>287</td></tr><tr><td>273</td></tr><tr><td>253</td></tr><tr><td>261</td></tr><tr><td>265</td></tr><tr><td>251</td></tr><tr><td>245</td></tr><tr><td>299</td></tr><tr><td>249</td></tr><tr><td>269</td></tr><tr><td>297</td></tr><tr><td>301</td></tr><tr><td>263</td></tr><tr><td>315</td></tr><tr><td>319</td></tr><tr><td>313</td></tr><tr><td>311</td></tr><tr><td>321</td></tr><tr><td>317</td></tr><tr><td>333</td></tr><tr><td>331</td></tr><tr><td>323</td></tr><tr><td>325</td></tr><tr><td>327</td></tr><tr><td>335</td></tr><tr><td>337</td></tr><tr><td>343</td></tr><tr><td>341</td></tr><tr><td>345</td></tr><tr><td>347</td></tr><tr><td>339</td></tr><tr><td>357</td></tr><tr><td>353</td></tr><tr><td>351</td></tr><tr><td>359</td></tr><tr><td>355</td></tr><tr><td>367</td></tr><tr><td>365</td></tr><tr><td>363</td></tr><tr><td>369</td></tr><tr><td>309</td></tr><tr><td>289</td></tr><tr><td>277</td></tr><tr><td>257</td></tr><tr><td>329</td></tr><tr><td>349</td></tr><tr><td>361</td></tr></tbody></table></div>"
      ]
     },
     "metadata": {
      "application/vnd.databricks.v1+output": {
       "addedWidgets": {},
       "aggData": [],
       "aggError": "",
       "aggOverflow": false,
       "aggSchema": [],
       "aggSeriesLimitReached": false,
       "aggType": "",
       "arguments": {},
       "columnCustomDisplayInfos": {},
       "data": [
        [
         5
        ],
        [
         106
        ],
        [
         108
        ],
        [
         100
        ],
        [
         102
        ],
        [
         104
        ],
        [
         106
        ],
        [
         108
        ],
        [
         110
        ],
        [
         112
        ],
        [
         114
        ],
        [
         116
        ],
        [
         118
        ],
        [
         120
        ],
        [
         122
        ],
        [
         124
        ],
        [
         126
        ],
        [
         128
        ],
        [
         130
        ],
        [
         132
        ],
        [
         134
        ],
        [
         136
        ],
        [
         138
        ],
        [
         140
        ],
        [
         142
        ],
        [
         144
        ],
        [
         146
        ],
        [
         148
        ],
        [
         150
        ],
        [
         152
        ],
        [
         154
        ],
        [
         156
        ],
        [
         158
        ],
        [
         7
        ],
        [
         9
        ],
        [
         1
        ],
        [
         3
        ],
        [
         5
        ],
        [
         7
        ],
        [
         9
        ],
        [
         11
        ],
        [
         13
        ],
        [
         15
        ],
        [
         17
        ],
        [
         19
        ],
        [
         21
        ],
        [
         23
        ],
        [
         25
        ],
        [
         27
        ],
        [
         29
        ],
        [
         31
        ],
        [
         33
        ],
        [
         35
        ],
        [
         37
        ],
        [
         39
        ],
        [
         41
        ],
        [
         43
        ],
        [
         45
        ],
        [
         47
        ],
        [
         49
        ],
        [
         51
        ],
        [
         53
        ],
        [
         55
        ],
        [
         57
        ],
        [
         59
        ],
        [
         160
        ],
        [
         162
        ],
        [
         164
        ],
        [
         166
        ],
        [
         168
        ],
        [
         170
        ],
        [
         172
        ],
        [
         174
        ],
        [
         176
        ],
        [
         178
        ],
        [
         180
        ],
        [
         182
        ],
        [
         184
        ],
        [
         186
        ],
        [
         188
        ],
        [
         190
        ],
        [
         192
        ],
        [
         194
        ],
        [
         196
        ],
        [
         198
        ],
        [
         200
        ],
        [
         202
        ],
        [
         204
        ],
        [
         206
        ],
        [
         208
        ],
        [
         210
        ],
        [
         212
        ],
        [
         214
        ],
        [
         216
        ],
        [
         218
        ],
        [
         220
        ],
        [
         222
        ],
        [
         61
        ],
        [
         63
        ],
        [
         65
        ],
        [
         67
        ],
        [
         69
        ],
        [
         71
        ],
        [
         73
        ],
        [
         75
        ],
        [
         77
        ],
        [
         79
        ],
        [
         81
        ],
        [
         83
        ],
        [
         85
        ],
        [
         87
        ],
        [
         89
        ],
        [
         91
        ],
        [
         93
        ],
        [
         95
        ],
        [
         97
        ],
        [
         99
        ],
        [
         101
        ],
        [
         103
        ],
        [
         105
        ],
        [
         107
        ],
        [
         109
        ],
        [
         111
        ],
        [
         113
        ],
        [
         115
        ],
        [
         117
        ],
        [
         119
        ],
        [
         121
        ],
        [
         123
        ],
        [
         224
        ],
        [
         226
        ],
        [
         228
        ],
        [
         230
        ],
        [
         232
        ],
        [
         234
        ],
        [
         236
        ],
        [
         238
        ],
        [
         240
        ],
        [
         242
        ],
        [
         244
        ],
        [
         246
        ],
        [
         248
        ],
        [
         250
        ],
        [
         252
        ],
        [
         254
        ],
        [
         256
        ],
        [
         258
        ],
        [
         260
        ],
        [
         262
        ],
        [
         264
        ],
        [
         266
        ],
        [
         268
        ],
        [
         270
        ],
        [
         272
        ],
        [
         274
        ],
        [
         276
        ],
        [
         278
        ],
        [
         280
        ],
        [
         282
        ],
        [
         284
        ],
        [
         286
        ],
        [
         125
        ],
        [
         127
        ],
        [
         129
        ],
        [
         131
        ],
        [
         133
        ],
        [
         135
        ],
        [
         137
        ],
        [
         139
        ],
        [
         141
        ],
        [
         143
        ],
        [
         145
        ],
        [
         147
        ],
        [
         149
        ],
        [
         151
        ],
        [
         153
        ],
        [
         155
        ],
        [
         157
        ],
        [
         159
        ],
        [
         161
        ],
        [
         163
        ],
        [
         165
        ],
        [
         167
        ],
        [
         169
        ],
        [
         171
        ],
        [
         173
        ],
        [
         175
        ],
        [
         177
        ],
        [
         179
        ],
        [
         181
        ],
        [
         183
        ],
        [
         185
        ],
        [
         187
        ],
        [
         288
        ],
        [
         290
        ],
        [
         292
        ],
        [
         294
        ],
        [
         296
        ],
        [
         298
        ],
        [
         300
        ],
        [
         302
        ],
        [
         304
        ],
        [
         306
        ],
        [
         308
        ],
        [
         310
        ],
        [
         312
        ],
        [
         314
        ],
        [
         316
        ],
        [
         318
        ],
        [
         320
        ],
        [
         322
        ],
        [
         324
        ],
        [
         326
        ],
        [
         328
        ],
        [
         330
        ],
        [
         332
        ],
        [
         334
        ],
        [
         336
        ],
        [
         338
        ],
        [
         340
        ],
        [
         342
        ],
        [
         344
        ],
        [
         346
        ],
        [
         348
        ],
        [
         350
        ],
        [
         189
        ],
        [
         193
        ],
        [
         191
        ],
        [
         195
        ],
        [
         197
        ],
        [
         199
        ],
        [
         201
        ],
        [
         203
        ],
        [
         205
        ],
        [
         207
        ],
        [
         209
        ],
        [
         211
        ],
        [
         213
        ],
        [
         215
        ],
        [
         217
        ],
        [
         219
        ],
        [
         221
        ],
        [
         223
        ],
        [
         225
        ],
        [
         227
        ],
        [
         229
        ],
        [
         231
        ],
        [
         233
        ],
        [
         235
        ],
        [
         237
        ],
        [
         239
        ],
        [
         241
        ],
        [
         243
        ],
        [
         352
        ],
        [
         354
        ],
        [
         356
        ],
        [
         358
        ],
        [
         360
        ],
        [
         362
        ],
        [
         364
        ],
        [
         366
        ],
        [
         368
        ],
        [
         370
        ],
        [
         372
        ],
        [
         374
        ],
        [
         376
        ],
        [
         378
        ],
        [
         380
        ],
        [
         382
        ],
        [
         384
        ],
        [
         386
        ],
        [
         388
        ],
        [
         390
        ],
        [
         392
        ],
        [
         394
        ],
        [
         396
        ],
        [
         398
        ],
        [
         400
        ],
        [
         402
        ],
        [
         404
        ],
        [
         406
        ],
        [
         408
        ],
        [
         410
        ],
        [
         412
        ],
        [
         414
        ],
        [
         416
        ],
        [
         418
        ],
        [
         420
        ],
        [
         422
        ],
        [
         424
        ],
        [
         426
        ],
        [
         428
        ],
        [
         430
        ],
        [
         432
        ],
        [
         434
        ],
        [
         436
        ],
        [
         438
        ],
        [
         440
        ],
        [
         442
        ],
        [
         444
        ],
        [
         446
        ],
        [
         448
        ],
        [
         450
        ],
        [
         452
        ],
        [
         454
        ],
        [
         456
        ],
        [
         458
        ],
        [
         460
        ],
        [
         462
        ],
        [
         464
        ],
        [
         466
        ],
        [
         468
        ],
        [
         470
        ],
        [
         291
        ],
        [
         255
        ],
        [
         259
        ],
        [
         247
        ],
        [
         303
        ],
        [
         267
        ],
        [
         279
        ],
        [
         305
        ],
        [
         271
        ],
        [
         293
        ],
        [
         295
        ],
        [
         283
        ],
        [
         307
        ],
        [
         281
        ],
        [
         275
        ],
        [
         285
        ],
        [
         287
        ],
        [
         273
        ],
        [
         253
        ],
        [
         261
        ],
        [
         265
        ],
        [
         251
        ],
        [
         245
        ],
        [
         299
        ],
        [
         249
        ],
        [
         269
        ],
        [
         297
        ],
        [
         301
        ],
        [
         263
        ],
        [
         315
        ],
        [
         319
        ],
        [
         313
        ],
        [
         311
        ],
        [
         321
        ],
        [
         317
        ],
        [
         333
        ],
        [
         331
        ],
        [
         323
        ],
        [
         325
        ],
        [
         327
        ],
        [
         335
        ],
        [
         337
        ],
        [
         343
        ],
        [
         341
        ],
        [
         345
        ],
        [
         347
        ],
        [
         339
        ],
        [
         357
        ],
        [
         353
        ],
        [
         351
        ],
        [
         359
        ],
        [
         355
        ],
        [
         367
        ],
        [
         365
        ],
        [
         363
        ],
        [
         369
        ],
        [
         309
        ],
        [
         289
        ],
        [
         277
        ],
        [
         257
        ],
        [
         329
        ],
        [
         349
        ],
        [
         361
        ]
       ],
       "datasetInfos": [],
       "dbfsResultPath": null,
       "isJsonSchema": true,
       "metadata": {},
       "overflow": false,
       "plotOptions": {
        "customPlotOptions": {},
        "displayType": "table",
        "pivotAggregation": null,
        "pivotColumns": null,
        "xColumns": null,
        "yColumns": null
       },
       "removedWidgets": [],
       "schema": [
        {
         "metadata": "{}",
         "name": "id",
         "type": "\"long\""
        }
       ],
       "type": "table"
      }
     },
     "output_type": "display_data"
    }
   ],
   "source": [
    "df = spark.read.format(\"delta\").load(\"/tmp/delta-table\")\n",
    "df.show()\n",
    "display(df)"
   ]
  },
  {
   "cell_type": "code",
   "execution_count": 0,
   "metadata": {
    "application/vnd.databricks.v1+cell": {
     "cellMetadata": {
      "byteLimit": 2048000,
      "rowLimit": 10000
     },
     "inputWidgets": {},
     "nuid": "11c7cadb-1000-45d2-8157-d78767ed3301",
     "showTitle": false,
     "title": ""
    }
   },
   "outputs": [],
   "source": [
    "deltaTable.delete(condition = expr(\"id % 2 == 0\"))"
   ]
  },
  {
   "cell_type": "code",
   "execution_count": 0,
   "metadata": {
    "application/vnd.databricks.v1+cell": {
     "cellMetadata": {
      "byteLimit": 2048000,
      "rowLimit": 10000
     },
     "inputWidgets": {},
     "nuid": "b685025b-f385-4eea-8279-9ff99e0fd7b4",
     "showTitle": false,
     "title": ""
    }
   },
   "outputs": [
    {
     "output_type": "stream",
     "name": "stdout",
     "output_type": "stream",
     "text": [
      "+---+\n| id|\n+---+\n|  5|\n|  7|\n|  9|\n|  1|\n|  3|\n|  5|\n|  7|\n|  9|\n| 11|\n| 13|\n| 15|\n| 17|\n| 19|\n| 21|\n| 23|\n| 25|\n| 27|\n| 29|\n| 31|\n| 33|\n+---+\nonly showing top 20 rows\n\n"
     ]
    },
    {
     "output_type": "display_data",
     "data": {
      "text/html": [
       "<style scoped>\n",
       "  .table-result-container {\n",
       "    max-height: 300px;\n",
       "    overflow: auto;\n",
       "  }\n",
       "  table, th, td {\n",
       "    border: 1px solid black;\n",
       "    border-collapse: collapse;\n",
       "  }\n",
       "  th, td {\n",
       "    padding: 5px;\n",
       "  }\n",
       "  th {\n",
       "    text-align: left;\n",
       "  }\n",
       "</style><div class='table-result-container'><table class='table-result'><thead style='background-color: white'><tr><th>id</th></tr></thead><tbody><tr><td>5</td></tr><tr><td>7</td></tr><tr><td>9</td></tr><tr><td>1</td></tr><tr><td>3</td></tr><tr><td>5</td></tr><tr><td>7</td></tr><tr><td>9</td></tr><tr><td>11</td></tr><tr><td>13</td></tr><tr><td>15</td></tr><tr><td>17</td></tr><tr><td>19</td></tr><tr><td>21</td></tr><tr><td>23</td></tr><tr><td>25</td></tr><tr><td>27</td></tr><tr><td>29</td></tr><tr><td>31</td></tr><tr><td>33</td></tr><tr><td>35</td></tr><tr><td>37</td></tr><tr><td>39</td></tr><tr><td>41</td></tr><tr><td>43</td></tr><tr><td>45</td></tr><tr><td>47</td></tr><tr><td>49</td></tr><tr><td>51</td></tr><tr><td>53</td></tr><tr><td>55</td></tr><tr><td>57</td></tr><tr><td>59</td></tr><tr><td>61</td></tr><tr><td>63</td></tr><tr><td>65</td></tr><tr><td>67</td></tr><tr><td>69</td></tr><tr><td>71</td></tr><tr><td>73</td></tr><tr><td>75</td></tr><tr><td>77</td></tr><tr><td>79</td></tr><tr><td>81</td></tr><tr><td>83</td></tr><tr><td>85</td></tr><tr><td>87</td></tr><tr><td>89</td></tr><tr><td>91</td></tr><tr><td>93</td></tr><tr><td>95</td></tr><tr><td>97</td></tr><tr><td>99</td></tr><tr><td>101</td></tr><tr><td>103</td></tr><tr><td>105</td></tr><tr><td>107</td></tr><tr><td>109</td></tr><tr><td>111</td></tr><tr><td>113</td></tr><tr><td>115</td></tr><tr><td>117</td></tr><tr><td>119</td></tr><tr><td>121</td></tr><tr><td>123</td></tr><tr><td>125</td></tr><tr><td>127</td></tr><tr><td>129</td></tr><tr><td>131</td></tr><tr><td>133</td></tr><tr><td>135</td></tr><tr><td>137</td></tr><tr><td>139</td></tr><tr><td>141</td></tr><tr><td>143</td></tr><tr><td>145</td></tr><tr><td>147</td></tr><tr><td>149</td></tr><tr><td>151</td></tr><tr><td>153</td></tr><tr><td>155</td></tr><tr><td>157</td></tr><tr><td>159</td></tr><tr><td>161</td></tr><tr><td>163</td></tr><tr><td>165</td></tr><tr><td>167</td></tr><tr><td>169</td></tr><tr><td>171</td></tr><tr><td>173</td></tr><tr><td>175</td></tr><tr><td>177</td></tr><tr><td>179</td></tr><tr><td>181</td></tr><tr><td>183</td></tr><tr><td>185</td></tr><tr><td>187</td></tr><tr><td>189</td></tr><tr><td>193</td></tr><tr><td>191</td></tr><tr><td>195</td></tr><tr><td>197</td></tr><tr><td>199</td></tr><tr><td>201</td></tr><tr><td>203</td></tr><tr><td>205</td></tr><tr><td>207</td></tr><tr><td>209</td></tr><tr><td>211</td></tr><tr><td>213</td></tr><tr><td>215</td></tr><tr><td>217</td></tr><tr><td>219</td></tr><tr><td>221</td></tr><tr><td>223</td></tr><tr><td>225</td></tr><tr><td>227</td></tr><tr><td>229</td></tr><tr><td>231</td></tr><tr><td>233</td></tr><tr><td>235</td></tr><tr><td>237</td></tr><tr><td>239</td></tr><tr><td>241</td></tr><tr><td>243</td></tr><tr><td>245</td></tr><tr><td>247</td></tr><tr><td>249</td></tr><tr><td>251</td></tr><tr><td>253</td></tr><tr><td>255</td></tr><tr><td>257</td></tr><tr><td>259</td></tr><tr><td>261</td></tr><tr><td>263</td></tr><tr><td>265</td></tr><tr><td>267</td></tr><tr><td>269</td></tr><tr><td>271</td></tr><tr><td>273</td></tr><tr><td>275</td></tr><tr><td>277</td></tr><tr><td>279</td></tr><tr><td>281</td></tr><tr><td>283</td></tr><tr><td>285</td></tr><tr><td>287</td></tr><tr><td>289</td></tr><tr><td>291</td></tr><tr><td>293</td></tr><tr><td>295</td></tr><tr><td>297</td></tr><tr><td>299</td></tr><tr><td>301</td></tr><tr><td>303</td></tr><tr><td>305</td></tr><tr><td>307</td></tr><tr><td>309</td></tr><tr><td>311</td></tr><tr><td>313</td></tr><tr><td>315</td></tr><tr><td>317</td></tr><tr><td>319</td></tr><tr><td>321</td></tr><tr><td>323</td></tr><tr><td>325</td></tr><tr><td>327</td></tr><tr><td>329</td></tr><tr><td>331</td></tr><tr><td>333</td></tr><tr><td>335</td></tr><tr><td>337</td></tr><tr><td>339</td></tr><tr><td>341</td></tr><tr><td>343</td></tr><tr><td>345</td></tr><tr><td>347</td></tr><tr><td>349</td></tr><tr><td>351</td></tr><tr><td>353</td></tr><tr><td>355</td></tr><tr><td>357</td></tr><tr><td>359</td></tr><tr><td>361</td></tr><tr><td>363</td></tr><tr><td>365</td></tr><tr><td>367</td></tr><tr><td>369</td></tr></tbody></table></div>"
      ]
     },
     "metadata": {
      "application/vnd.databricks.v1+output": {
       "addedWidgets": {},
       "aggData": [],
       "aggError": "",
       "aggOverflow": false,
       "aggSchema": [],
       "aggSeriesLimitReached": false,
       "aggType": "",
       "arguments": {},
       "columnCustomDisplayInfos": {},
       "data": [
        [
         5
        ],
        [
         7
        ],
        [
         9
        ],
        [
         1
        ],
        [
         3
        ],
        [
         5
        ],
        [
         7
        ],
        [
         9
        ],
        [
         11
        ],
        [
         13
        ],
        [
         15
        ],
        [
         17
        ],
        [
         19
        ],
        [
         21
        ],
        [
         23
        ],
        [
         25
        ],
        [
         27
        ],
        [
         29
        ],
        [
         31
        ],
        [
         33
        ],
        [
         35
        ],
        [
         37
        ],
        [
         39
        ],
        [
         41
        ],
        [
         43
        ],
        [
         45
        ],
        [
         47
        ],
        [
         49
        ],
        [
         51
        ],
        [
         53
        ],
        [
         55
        ],
        [
         57
        ],
        [
         59
        ],
        [
         61
        ],
        [
         63
        ],
        [
         65
        ],
        [
         67
        ],
        [
         69
        ],
        [
         71
        ],
        [
         73
        ],
        [
         75
        ],
        [
         77
        ],
        [
         79
        ],
        [
         81
        ],
        [
         83
        ],
        [
         85
        ],
        [
         87
        ],
        [
         89
        ],
        [
         91
        ],
        [
         93
        ],
        [
         95
        ],
        [
         97
        ],
        [
         99
        ],
        [
         101
        ],
        [
         103
        ],
        [
         105
        ],
        [
         107
        ],
        [
         109
        ],
        [
         111
        ],
        [
         113
        ],
        [
         115
        ],
        [
         117
        ],
        [
         119
        ],
        [
         121
        ],
        [
         123
        ],
        [
         125
        ],
        [
         127
        ],
        [
         129
        ],
        [
         131
        ],
        [
         133
        ],
        [
         135
        ],
        [
         137
        ],
        [
         139
        ],
        [
         141
        ],
        [
         143
        ],
        [
         145
        ],
        [
         147
        ],
        [
         149
        ],
        [
         151
        ],
        [
         153
        ],
        [
         155
        ],
        [
         157
        ],
        [
         159
        ],
        [
         161
        ],
        [
         163
        ],
        [
         165
        ],
        [
         167
        ],
        [
         169
        ],
        [
         171
        ],
        [
         173
        ],
        [
         175
        ],
        [
         177
        ],
        [
         179
        ],
        [
         181
        ],
        [
         183
        ],
        [
         185
        ],
        [
         187
        ],
        [
         189
        ],
        [
         193
        ],
        [
         191
        ],
        [
         195
        ],
        [
         197
        ],
        [
         199
        ],
        [
         201
        ],
        [
         203
        ],
        [
         205
        ],
        [
         207
        ],
        [
         209
        ],
        [
         211
        ],
        [
         213
        ],
        [
         215
        ],
        [
         217
        ],
        [
         219
        ],
        [
         221
        ],
        [
         223
        ],
        [
         225
        ],
        [
         227
        ],
        [
         229
        ],
        [
         231
        ],
        [
         233
        ],
        [
         235
        ],
        [
         237
        ],
        [
         239
        ],
        [
         241
        ],
        [
         243
        ],
        [
         245
        ],
        [
         247
        ],
        [
         249
        ],
        [
         251
        ],
        [
         253
        ],
        [
         255
        ],
        [
         257
        ],
        [
         259
        ],
        [
         261
        ],
        [
         263
        ],
        [
         265
        ],
        [
         267
        ],
        [
         269
        ],
        [
         271
        ],
        [
         273
        ],
        [
         275
        ],
        [
         277
        ],
        [
         279
        ],
        [
         281
        ],
        [
         283
        ],
        [
         285
        ],
        [
         287
        ],
        [
         289
        ],
        [
         291
        ],
        [
         293
        ],
        [
         295
        ],
        [
         297
        ],
        [
         299
        ],
        [
         301
        ],
        [
         303
        ],
        [
         305
        ],
        [
         307
        ],
        [
         309
        ],
        [
         311
        ],
        [
         313
        ],
        [
         315
        ],
        [
         317
        ],
        [
         319
        ],
        [
         321
        ],
        [
         323
        ],
        [
         325
        ],
        [
         327
        ],
        [
         329
        ],
        [
         331
        ],
        [
         333
        ],
        [
         335
        ],
        [
         337
        ],
        [
         339
        ],
        [
         341
        ],
        [
         343
        ],
        [
         345
        ],
        [
         347
        ],
        [
         349
        ],
        [
         351
        ],
        [
         353
        ],
        [
         355
        ],
        [
         357
        ],
        [
         359
        ],
        [
         361
        ],
        [
         363
        ],
        [
         365
        ],
        [
         367
        ],
        [
         369
        ]
       ],
       "datasetInfos": [],
       "dbfsResultPath": null,
       "isJsonSchema": true,
       "metadata": {},
       "overflow": false,
       "plotOptions": {
        "customPlotOptions": {},
        "displayType": "table",
        "pivotAggregation": null,
        "pivotColumns": null,
        "xColumns": null,
        "yColumns": null
       },
       "removedWidgets": [],
       "schema": [
        {
         "metadata": "{}",
         "name": "id",
         "type": "\"long\""
        }
       ],
       "type": "table"
      }
     },
     "output_type": "display_data"
    }
   ],
   "source": [
    "df = spark.read.format(\"delta\").load(\"/tmp/delta-table\")\n",
    "df.show()\n",
    "display(df)"
   ]
  },
  {
   "cell_type": "code",
   "execution_count": 0,
   "metadata": {
    "application/vnd.databricks.v1+cell": {
     "cellMetadata": {
      "byteLimit": 2048000,
      "rowLimit": 10000
     },
     "inputWidgets": {},
     "nuid": "1b9d81f3-4123-4c3f-91a9-718b8762a85a",
     "showTitle": false,
     "title": ""
    }
   },
   "outputs": [
    {
     "output_type": "stream",
     "name": "stdout",
     "output_type": "stream",
     "text": [
      "+---+\n| id|\n+---+\n|  5|\n|  5|\n|  6|\n|  7|\n|  7|\n|  8|\n|  9|\n|  9|\n| 10|\n| 11|\n| 12|\n| 13|\n| 14|\n| 15|\n| 16|\n| 17|\n| 18|\n| 19|\n|  0|\n|  1|\n+---+\nonly showing top 20 rows\n\n"
     ]
    }
   ],
   "source": [
    "newData = spark.range(0, 20)\n",
    "\n",
    "deltaTable.alias(\"oldData\") \\\n",
    "  .merge(\n",
    "    newData.alias(\"newData\"),\n",
    "    \"oldData.id = newData.id\") \\\n",
    "  .whenMatchedUpdate(set = { \"id\": col(\"newData.id\") }) \\\n",
    "  .whenNotMatchedInsert(values = { \"id\": col(\"newData.id\") }) \\\n",
    "  .execute()\n",
    "\n",
    "deltaTable.toDF().show()"
   ]
  }
 ],
 "metadata": {
  "application/vnd.databricks.v1+notebook": {
   "dashboards": [],
   "language": "python",
   "notebookMetadata": {
    "pythonIndentUnit": 4
   },
   "notebookName": "python-delta",
   "widgets": {}
  }
 },
 "nbformat": 4,
 "nbformat_minor": 0
}
