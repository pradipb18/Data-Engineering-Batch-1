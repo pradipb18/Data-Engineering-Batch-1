{
 "cells": [
  {
   "cell_type": "code",
   "execution_count": 86,
   "id": "c8993ec9",
   "metadata": {},
   "outputs": [],
   "source": [
    "import pyspark\n",
    "from pyspark.sql import SparkSession\n",
    "spark = SparkSession.builder.appName(\"working_datasets\").getOrCreate()"
   ]
  },
  {
   "cell_type": "code",
   "execution_count": 87,
   "id": "f9ea984a",
   "metadata": {},
   "outputs": [],
   "source": [
    "data1 = spark.read.csv(\"Marks_data.csv\",header = True,inferSchema = True)"
   ]
  },
  {
   "cell_type": "code",
   "execution_count": 88,
   "id": "3cc7adc6",
   "metadata": {},
   "outputs": [
    {
     "name": "stdout",
     "output_type": "stream",
     "text": [
      "+----+--------+--------+----+\n",
      "|Name|M1 Score|M2 Score| age|\n",
      "+----+--------+--------+----+\n",
      "|Alex|      62|      80|NULL|\n",
      "|Brad|      45|      56|NULL|\n",
      "|Joey|      85|      98|NULL|\n",
      "|NULL|      54|      79|NULL|\n",
      "|abhi|    NULL|    NULL|NULL|\n",
      "+----+--------+--------+----+\n",
      "\n"
     ]
    }
   ],
   "source": [
    "data1.show()"
   ]
  },
  {
   "cell_type": "code",
   "execution_count": 89,
   "id": "baf9708d",
   "metadata": {},
   "outputs": [
    {
     "data": {
      "text/plain": [
       "['Name', 'M1 Score', 'M2 Score', 'age']"
      ]
     },
     "execution_count": 89,
     "metadata": {},
     "output_type": "execute_result"
    }
   ],
   "source": [
    "# it will show the columns list from the csv file\n",
    "\n",
    "data1.columns"
   ]
  },
  {
   "cell_type": "code",
   "execution_count": 90,
   "id": "6c51839b",
   "metadata": {},
   "outputs": [
    {
     "data": {
      "text/plain": [
       "Row(Name='Alex', M1 Score=62, M2 Score=80, age=None)"
      ]
     },
     "execution_count": 90,
     "metadata": {},
     "output_type": "execute_result"
    }
   ],
   "source": [
    "data1.head()"
   ]
  },
  {
   "cell_type": "code",
   "execution_count": 91,
   "id": "bafaaaff",
   "metadata": {},
   "outputs": [
    {
     "data": {
      "text/plain": [
       "pyspark.sql.dataframe.DataFrame"
      ]
     },
     "execution_count": 91,
     "metadata": {},
     "output_type": "execute_result"
    }
   ],
   "source": [
    "type(data1)"
   ]
  },
  {
   "cell_type": "code",
   "execution_count": 92,
   "id": "9238a40d",
   "metadata": {},
   "outputs": [
    {
     "name": "stdout",
     "output_type": "stream",
     "text": [
      "+----+\n",
      "|name|\n",
      "+----+\n",
      "|Alex|\n",
      "|Brad|\n",
      "|Joey|\n",
      "|NULL|\n",
      "|abhi|\n",
      "+----+\n",
      "\n"
     ]
    }
   ],
   "source": [
    "column_var = data1.select('name')\n",
    "column_var.show()"
   ]
  },
  {
   "cell_type": "code",
   "execution_count": 93,
   "id": "4c886edf",
   "metadata": {},
   "outputs": [
    {
     "name": "stdout",
     "output_type": "stream",
     "text": [
      "+----+--------+\n",
      "|name|M1 Score|\n",
      "+----+--------+\n",
      "|Alex|      62|\n",
      "|Brad|      45|\n",
      "|Joey|      85|\n",
      "|NULL|      54|\n",
      "|abhi|    NULL|\n",
      "+----+--------+\n",
      "\n"
     ]
    }
   ],
   "source": [
    "multi_cols = data1.select(['name','M1 Score'])\n",
    "multi_cols.show()"
   ]
  },
  {
   "cell_type": "code",
   "execution_count": 94,
   "id": "a528b194",
   "metadata": {},
   "outputs": [],
   "source": [
    "# reading text file in spark\n",
    "# data2 = spark.read.text(\"extex.txt\")\n",
    "# data2.show()"
   ]
  },
  {
   "cell_type": "code",
   "execution_count": 95,
   "id": "b4ce14ed",
   "metadata": {},
   "outputs": [],
   "source": [
    "# data3 = data2.describe().show()"
   ]
  },
  {
   "cell_type": "code",
   "execution_count": 96,
   "id": "5ea7deca",
   "metadata": {},
   "outputs": [
    {
     "name": "stdout",
     "output_type": "stream",
     "text": [
      "+----+--------+--------+----+-----------+\n",
      "|Name|M1 Score|M2 Score| age|total marks|\n",
      "+----+--------+--------+----+-----------+\n",
      "|Alex|      62|      80|NULL|        142|\n",
      "|Brad|      45|      56|NULL|        101|\n",
      "|Joey|      85|      98|NULL|        183|\n",
      "|NULL|      54|      79|NULL|        133|\n",
      "|abhi|    NULL|    NULL|NULL|       NULL|\n",
      "+----+--------+--------+----+-----------+\n",
      "\n"
     ]
    }
   ],
   "source": [
    "# added both the columns and added the result in new column as total marks\n",
    "\n",
    "add_col = data1.withColumn(\"total marks\",data1['M1 Score']+data1['M2 Score']).show()\n",
    "add_col"
   ]
  },
  {
   "cell_type": "code",
   "execution_count": 97,
   "id": "61182e1f",
   "metadata": {},
   "outputs": [
    {
     "name": "stdout",
     "output_type": "stream",
     "text": [
      "+----+--------+--------+----+\n",
      "|Name|M1 Score|M2 Score| age|\n",
      "+----+--------+--------+----+\n",
      "|Alex|      62|      80|NULL|\n",
      "|Brad|      45|      56|NULL|\n",
      "|Joey|      85|      98|NULL|\n",
      "|NULL|      54|      79|NULL|\n",
      "|abhi|    NULL|    NULL|NULL|\n",
      "+----+--------+--------+----+\n",
      "\n"
     ]
    }
   ],
   "source": [
    "# dropping columns\n",
    "#drop (\"column_name\")\n",
    "\n",
    "remo_cols = data1.drop(\"total marks\") # total makrs is dropped\n",
    "\n",
    "remo_cols.show()\n"
   ]
  },
  {
   "cell_type": "code",
   "execution_count": 98,
   "id": "9037cf46",
   "metadata": {},
   "outputs": [
    {
     "name": "stdout",
     "output_type": "stream",
     "text": [
      "after rename:\n",
      "+---------+--------+--------+----+\n",
      "|full name|M1 Score|M2 Score| age|\n",
      "+---------+--------+--------+----+\n",
      "|     Alex|      62|      80|NULL|\n",
      "|     Brad|      45|      56|NULL|\n",
      "|     Joey|      85|      98|NULL|\n",
      "|     NULL|      54|      79|NULL|\n",
      "|     abhi|    NULL|    NULL|NULL|\n",
      "+---------+--------+--------+----+\n",
      "\n"
     ]
    }
   ],
   "source": [
    "# renaming columns\n",
    "\n",
    "#withColumnRenamed(\"existing name\",\"new name\")\n",
    "# print(\"before rename :\")\n",
    "# data1.show()\n",
    "print(\"after rename:\")\n",
    "rename_col = data1.withColumnRenamed(\"name\",\"full name\")\n",
    "rename_col.show()"
   ]
  },
  {
   "cell_type": "code",
   "execution_count": 99,
   "id": "a8196085",
   "metadata": {},
   "outputs": [],
   "source": [
    "from pyspark.sql import SparkSession\n",
    "spark = SparkSession.builder.appName(\"working_datasets\").getOrCreate()\n",
    "\n"
   ]
  },
  {
   "cell_type": "code",
   "execution_count": 100,
   "id": "d0ab8e15",
   "metadata": {},
   "outputs": [
    {
     "name": "stdout",
     "output_type": "stream",
     "text": [
      "+----+--------+--------+----+\n",
      "|Name|M1 Score|M2 Score| age|\n",
      "+----+--------+--------+----+\n",
      "|Alex|      62|      80|NULL|\n",
      "|Brad|      45|      56|NULL|\n",
      "|Joey|      85|      98|NULL|\n",
      "|NULL|      54|      79|NULL|\n",
      "|abhi|    NULL|    NULL|NULL|\n",
      "+----+--------+--------+----+\n",
      "\n"
     ]
    }
   ],
   "source": [
    "data1.show()"
   ]
  },
  {
   "cell_type": "code",
   "execution_count": 101,
   "id": "0e8e2ad1",
   "metadata": {},
   "outputs": [
    {
     "name": "stdout",
     "output_type": "stream",
     "text": [
      "+----+--------+--------+\n",
      "|Name|M1 Score|M2 Score|\n",
      "+----+--------+--------+\n",
      "|Alex|      62|      80|\n",
      "|Brad|      45|      56|\n",
      "|Joey|      85|      98|\n",
      "|NULL|      54|      79|\n",
      "|abhi|    NULL|    NULL|\n",
      "+----+--------+--------+\n",
      "\n"
     ]
    }
   ],
   "source": [
    "# let us drop the age column using drop()\n",
    "#drop(\"column_name\")\n",
    "drop_col = data1.drop(\"age\")\n",
    "drop_col.show()"
   ]
  },
  {
   "cell_type": "code",
   "execution_count": 102,
   "id": "da43fa34",
   "metadata": {},
   "outputs": [
    {
     "name": "stdout",
     "output_type": "stream",
     "text": [
      "+----+--------+--------+----+\n",
      "|Name|M1 Score|M2 Score| age|\n",
      "+----+--------+--------+----+\n",
      "|Alex|      62|      80|NULL|\n",
      "|Brad|      45|      56|NULL|\n",
      "|Joey|      85|      98|NULL|\n",
      "|NULL|      54|      79|NULL|\n",
      "|abhi|    NULL|    NULL|NULL|\n",
      "+----+--------+--------+----+\n",
      "\n"
     ]
    }
   ],
   "source": [
    "data1.show()"
   ]
  },
  {
   "cell_type": "code",
   "execution_count": 103,
   "id": "3b8eba2d",
   "metadata": {},
   "outputs": [
    {
     "name": "stdout",
     "output_type": "stream",
     "text": [
      "+----+--------+--------+----+\n",
      "|Name|M1 Score|M2 Score| age|\n",
      "+----+--------+--------+----+\n",
      "|Alex|      62|      80|NULL|\n",
      "|Brad|      45|      56|NULL|\n",
      "|Joey|      85|      98|NULL|\n",
      "|NULL|      54|      79|NULL|\n",
      "|abhi|    NULL|    NULL|NULL|\n",
      "+----+--------+--------+----+\n",
      "\n"
     ]
    }
   ],
   "source": [
    "drop_col2 = data1.na.drop(how=\"all\")\n",
    "drop_col2.show()"
   ]
  },
  {
   "cell_type": "code",
   "execution_count": 104,
   "id": "38af8765",
   "metadata": {},
   "outputs": [
    {
     "name": "stdout",
     "output_type": "stream",
     "text": [
      "+----+--------+--------+---+\n",
      "|Name|M1 Score|M2 Score|age|\n",
      "+----+--------+--------+---+\n",
      "+----+--------+--------+---+\n",
      "\n"
     ]
    }
   ],
   "source": [
    "drop_col3 = data1.na.drop(how=\"any\")\n",
    "drop_col3.show()"
   ]
  },
  {
   "cell_type": "code",
   "execution_count": 105,
   "id": "19768677",
   "metadata": {},
   "outputs": [
    {
     "name": "stdout",
     "output_type": "stream",
     "text": [
      "+----+--------+--------+----+\n",
      "|Name|M1 Score|M2 Score| age|\n",
      "+----+--------+--------+----+\n",
      "|Alex|      62|      80|NULL|\n",
      "|Brad|      45|      56|NULL|\n",
      "|Joey|      85|      98|NULL|\n",
      "|NULL|      54|      79|NULL|\n",
      "+----+--------+--------+----+\n",
      "\n"
     ]
    }
   ],
   "source": [
    "# in subset you can mention which column to check the null values.\n",
    "m1_drop_col = data1.na.drop(how=\"any\", subset=[\"M1 Score\"])\n",
    "m1_drop_col.show()"
   ]
  },
  {
   "cell_type": "code",
   "execution_count": 106,
   "id": "e15ecc45",
   "metadata": {},
   "outputs": [
    {
     "name": "stdout",
     "output_type": "stream",
     "text": [
      "+-------+--------+--------+----+\n",
      "|   Name|M1 Score|M2 Score| age|\n",
      "+-------+--------+--------+----+\n",
      "|   Alex|      62|      80|NULL|\n",
      "|   Brad|      45|      56|NULL|\n",
      "|   Joey|      85|      98|NULL|\n",
      "|missing|      54|      79|NULL|\n",
      "|   abhi|    NULL|    NULL|NULL|\n",
      "+-------+--------+--------+----+\n",
      "\n"
     ]
    }
   ],
   "source": [
    "# filling missing values\n",
    "data1 = data1.na.fill('missing',['Name'])\n",
    "data1.show()"
   ]
  },
  {
   "cell_type": "code",
   "execution_count": null,
   "id": "5f79ae85",
   "metadata": {},
   "outputs": [],
   "source": [
    "\n",
    "\n"
   ]
  },
  {
   "cell_type": "code",
   "execution_count": 113,
   "id": "6f10ad91",
   "metadata": {},
   "outputs": [],
   "source": [
    "#renaming columns\n",
    "data1 = data1.withColumnRenamed(\"M1 Score\",\"M1_score\")\n",
    "data1 = data1.withColumnRenamed(\"M2 Score\",'M2_score')"
   ]
  },
  {
   "cell_type": "code",
   "execution_count": null,
   "id": "2a32a76f",
   "metadata": {},
   "outputs": [],
   "source": []
  },
  {
   "cell_type": "code",
   "execution_count": 131,
   "id": "1f9ca1c1",
   "metadata": {},
   "outputs": [],
   "source": [
    "#filling the missing values with mean, median and mode\n",
    "\n",
    "from pyspark.ml.feature import Imputer\n",
    "\n",
    "imputer = Imputer(inputCols=['M1_score','M2_score'],\n",
    "                  outputCols=[\"{}_imputed\".format(c) for c in ['M1_score','M2_score']]).setStrategy(\"mean\")\n"
   ]
  },
  {
   "cell_type": "code",
   "execution_count": 132,
   "id": "abf702b2",
   "metadata": {},
   "outputs": [
    {
     "name": "stdout",
     "output_type": "stream",
     "text": [
      "+-------+--------+--------+----+----------------+----------------+\n",
      "|   Name|M1_score|M2_score| age|M1_score_imputed|M2_score_imputed|\n",
      "+-------+--------+--------+----+----------------+----------------+\n",
      "|   Alex|      62|      80|NULL|              62|              80|\n",
      "|   Brad|      45|      56|NULL|              45|              56|\n",
      "|   Joey|      85|      98|NULL|              85|              98|\n",
      "|missing|      54|      79|NULL|              54|              79|\n",
      "|   abhi|    NULL|    NULL|NULL|              61|              78|\n",
      "+-------+--------+--------+----+----------------+----------------+\n",
      "\n"
     ]
    }
   ],
   "source": [
    "# Add imputation cols to df\n",
    "imputer.fit(data1).transform(data1).show()"
   ]
  },
  {
   "cell_type": "code",
   "execution_count": 133,
   "id": "181490b8",
   "metadata": {},
   "outputs": [
    {
     "name": "stdout",
     "output_type": "stream",
     "text": [
      "+-------+--------+--------+----+\n",
      "|   Name|M1_score|M2_score| age|\n",
      "+-------+--------+--------+----+\n",
      "|   Alex|      62|      80|NULL|\n",
      "|   Brad|      45|      56|NULL|\n",
      "|   Joey|      85|      98|NULL|\n",
      "|missing|      54|      79|NULL|\n",
      "|   abhi|    NULL|    NULL|NULL|\n",
      "+-------+--------+--------+----+\n",
      "\n"
     ]
    }
   ],
   "source": [
    "data1.show()"
   ]
  },
  {
   "cell_type": "code",
   "execution_count": 139,
   "id": "c7eafaee",
   "metadata": {},
   "outputs": [
    {
     "name": "stdout",
     "output_type": "stream",
     "text": [
      "+----+--------+--------+----+\n",
      "|Name|M1_score|M2_score| age|\n",
      "+----+--------+--------+----+\n",
      "|Alex|      62|      80|NULL|\n",
      "|Joey|      85|      98|NULL|\n",
      "+----+--------+--------+----+\n",
      "\n"
     ]
    }
   ],
   "source": [
    "# filter operations\n",
    "#using and (&), or (|) , not (~)\n",
    "\n",
    "filter_cols = data1.filter(data1[\"M1_score\"]>55)\n",
    "filter_cols.show()"
   ]
  },
  {
   "cell_type": "code",
   "execution_count": 143,
   "id": "79e1545a",
   "metadata": {},
   "outputs": [
    {
     "name": "stdout",
     "output_type": "stream",
     "text": [
      "+----+--------+--------+----+\n",
      "|Name|M1_score|M2_score| age|\n",
      "+----+--------+--------+----+\n",
      "|Alex|      62|      80|NULL|\n",
      "|Joey|      85|      98|NULL|\n",
      "+----+--------+--------+----+\n",
      "\n"
     ]
    }
   ],
   "source": [
    "filter_cols2 = data1.filter((data1[\"M1_score\"]>=55) & (data1[\"M2_score\"]>=55))\n",
    "filter_cols2.show()"
   ]
  },
  {
   "cell_type": "code",
   "execution_count": 145,
   "id": "81540334",
   "metadata": {},
   "outputs": [
    {
     "name": "stdout",
     "output_type": "stream",
     "text": [
      "+-------+--------+--------+----+\n",
      "|   Name|M1_score|M2_score| age|\n",
      "+-------+--------+--------+----+\n",
      "|   Brad|      45|      56|NULL|\n",
      "|missing|      54|      79|NULL|\n",
      "+-------+--------+--------+----+\n",
      "\n"
     ]
    }
   ],
   "source": [
    "# not (~) condition whcih will inverse the condition\n",
    "filter_cols3 = data1.filter(~(data1[\"M1_score\"]>=55))\n",
    "filter_cols3.show()"
   ]
  },
  {
   "cell_type": "code",
   "execution_count": 155,
   "id": "f59e498b",
   "metadata": {},
   "outputs": [
    {
     "name": "stdout",
     "output_type": "stream",
     "text": [
      "+-------+-------------+-------------+\n",
      "|   name|max(M1_score)|max(M2_score)|\n",
      "+-------+-------------+-------------+\n",
      "|   Joey|           85|           98|\n",
      "|   abhi|         NULL|         NULL|\n",
      "|   Alex|           62|           80|\n",
      "|missing|           54|           79|\n",
      "|   Brad|           45|           56|\n",
      "+-------+-------------+-------------+\n",
      "\n"
     ]
    }
   ],
   "source": [
    "# group by\n",
    "\n",
    "groupby_cols = data1.groupBy(\"name\").max(\"M1_score\").show()"
   ]
  },
  {
   "cell_type": "code",
   "execution_count": 152,
   "id": "a7aa4695",
   "metadata": {},
   "outputs": [
    {
     "name": "stdout",
     "output_type": "stream",
     "text": [
      "+---+-----+\n",
      "|age|count|\n",
      "+---+-----+\n",
      "| 19|    1|\n",
      "| 20|    3|\n",
      "| 21|    1|\n",
      "+---+-----+\n",
      "\n"
     ]
    }
   ],
   "source": [
    "groupby_cols2 = data1.groupBy(\"age\").count()\n",
    "groupby_cols2.show()"
   ]
  },
  {
   "cell_type": "code",
   "execution_count": 154,
   "id": "be4945eb",
   "metadata": {},
   "outputs": [
    {
     "name": "stdout",
     "output_type": "stream",
     "text": [
      "+-------------+\n",
      "|sum(M1_score)|\n",
      "+-------------+\n",
      "|          246|\n",
      "+-------------+\n",
      "\n"
     ]
    }
   ],
   "source": [
    "groupby_cols3 = data1.agg({\"M1_score\":\"sum\"})\n",
    "groupby_cols3.show()"
   ]
  },
  {
   "cell_type": "code",
   "execution_count": 161,
   "id": "62471aed",
   "metadata": {},
   "outputs": [
    {
     "name": "stdout",
     "output_type": "stream",
     "text": [
      "+-------+-------------+-------------+\n",
      "|   name|max(M1_score)|max(M2_score)|\n",
      "+-------+-------------+-------------+\n",
      "|   Joey|           85|           98|\n",
      "|   abhi|         NULL|         NULL|\n",
      "|   Alex|           62|           80|\n",
      "|missing|           54|           79|\n",
      "|   Brad|           45|           56|\n",
      "+-------+-------------+-------------+\n",
      "\n"
     ]
    }
   ],
   "source": [
    "# group by\n",
    "\n",
    "groupby_cols = data1.groupBy('name').max().show()"
   ]
  },
  {
   "cell_type": "code",
   "execution_count": 163,
   "id": "2a2d01dd",
   "metadata": {},
   "outputs": [
    {
     "name": "stdout",
     "output_type": "stream",
     "text": [
      "+---+-------------+-------------+\n",
      "|age|avg(M1_score)|avg(M2_score)|\n",
      "+---+-------------+-------------+\n",
      "| 19|         45.0|         56.0|\n",
      "| 20|         58.0|         79.5|\n",
      "| 21|         85.0|         98.0|\n",
      "+---+-------------+-------------+\n",
      "\n"
     ]
    }
   ],
   "source": [
    "groupby_cols = data1.groupBy('age').avg().show()\n"
   ]
  },
  {
   "cell_type": "code",
   "execution_count": null,
   "id": "d4b236b5",
   "metadata": {},
   "outputs": [],
   "source": []
  },
  {
   "cell_type": "code",
   "execution_count": null,
   "id": "8990fc18",
   "metadata": {},
   "outputs": [],
   "source": []
  }
 ],
 "metadata": {
  "kernelspec": {
   "display_name": "Python 3 (ipykernel)",
   "language": "python",
   "name": "python3"
  },
  "language_info": {
   "codemirror_mode": {
    "name": "ipython",
    "version": 3
   },
   "file_extension": ".py",
   "mimetype": "text/x-python",
   "name": "python",
   "nbconvert_exporter": "python",
   "pygments_lexer": "ipython3",
   "version": "3.11.4"
  }
 },
 "nbformat": 4,
 "nbformat_minor": 5
}
