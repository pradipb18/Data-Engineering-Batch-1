{
 "cells": [
  {
   "cell_type": "code",
   "execution_count": 7,
   "id": "62f4aa64",
   "metadata": {},
   "outputs": [],
   "source": [
    "\n"
   ]
  },
  {
   "cell_type": "code",
   "execution_count": 8,
   "id": "8389a1dc",
   "metadata": {},
   "outputs": [
    {
     "name": "stdout",
     "output_type": "stream",
     "text": [
      "   Name  M1 Score  M2 Score\n",
      "0  Alex        62        80\n",
      "1  Brad        45        56\n",
      "2  Joey        85        98\n"
     ]
    },
    {
     "data": {
      "text/plain": [
       "pandas.core.frame.DataFrame"
      ]
     },
     "execution_count": 8,
     "metadata": {},
     "output_type": "execute_result"
    }
   ],
   "source": [
    "# import pandas as pd\n",
    "# log_data = pd.read_csv(\"Marks_data.csv\")\n",
    "# print(log_data)\n",
    "# type(log_data)"
   ]
  },
  {
   "cell_type": "code",
   "execution_count": 9,
   "id": "32d01c1a",
   "metadata": {},
   "outputs": [
    {
     "data": {
      "text/html": [
       "\n",
       "            <div>\n",
       "                <p><b>SparkSession - in-memory</b></p>\n",
       "                \n",
       "        <div>\n",
       "            <p><b>SparkContext</b></p>\n",
       "\n",
       "            <p><a href=\"http://localhost:4040\">Spark UI</a></p>\n",
       "\n",
       "            <dl>\n",
       "              <dt>Version</dt>\n",
       "                <dd><code>v3.5.0</code></dd>\n",
       "              <dt>Master</dt>\n",
       "                <dd><code>local[*]</code></dd>\n",
       "              <dt>AppName</dt>\n",
       "                <dd><code>practice</code></dd>\n",
       "            </dl>\n",
       "        </div>\n",
       "        \n",
       "            </div>\n",
       "        "
      ],
      "text/plain": [
       "<pyspark.sql.session.SparkSession at 0x1f0728d1550>"
      ]
     },
     "execution_count": 9,
     "metadata": {},
     "output_type": "execute_result"
    }
   ],
   "source": [
    "#in order to work with pyspark we need to creare a spark session.\n",
    "import pyspark\n",
    "from pyspark.sql import SparkSession\n",
    "spark = SparkSession.builder.appName(\"practice\").getOrCreate()\n",
    "\n",
    "spark"
   ]
  },
  {
   "cell_type": "code",
   "execution_count": 10,
   "id": "3aa997d4",
   "metadata": {},
   "outputs": [
    {
     "data": {
      "text/plain": [
       "DataFrame[_c0: string, _c1: string, _c2: string]"
      ]
     },
     "execution_count": 10,
     "metadata": {},
     "output_type": "execute_result"
    }
   ],
   "source": [
    "df = spark.read.csv(\"Marks_data.csv\")\n",
    "df    "
   ]
  },
  {
   "cell_type": "code",
   "execution_count": 11,
   "id": "b51f88c4",
   "metadata": {},
   "outputs": [
    {
     "name": "stdout",
     "output_type": "stream",
     "text": [
      "+----+--------+--------+\n",
      "| _c0|     _c1|     _c2|\n",
      "+----+--------+--------+\n",
      "|Name|M1 Score|M2 Score|\n",
      "|Alex|      62|      80|\n",
      "|Brad|      45|      56|\n",
      "|Joey|      85|      98|\n",
      "+----+--------+--------+\n",
      "\n"
     ]
    }
   ],
   "source": [
    "df.show() #to show the entire file"
   ]
  },
  {
   "cell_type": "code",
   "execution_count": 23,
   "id": "39a4d221",
   "metadata": {},
   "outputs": [
    {
     "name": "stdout",
     "output_type": "stream",
     "text": [
      "+----+--------+--------+\n",
      "|Name|M1 Score|M2 Score|\n",
      "+----+--------+--------+\n",
      "|Alex|      62|      80|\n",
      "|Brad|      45|      56|\n",
      "|Joey|      85|      98|\n",
      "+----+--------+--------+\n",
      "\n"
     ]
    },
    {
     "data": {
      "text/plain": [
       "pyspark.sql.dataframe.DataFrame"
      ]
     },
     "execution_count": 23,
     "metadata": {},
     "output_type": "execute_result"
    }
   ],
   "source": [
    "#renaming columns\n",
    "df1 = spark.read.csv(\"Marks_data.csv\",header = True,inferSchema = True)\n",
    "df1.show()\n",
    "type(df1)"
   ]
  },
  {
   "cell_type": "code",
   "execution_count": 24,
   "id": "955d04cb",
   "metadata": {},
   "outputs": [
    {
     "data": {
      "text/plain": [
       "[Row(Name='Alex', M1 Score=62, M2 Score=80),\n",
       " Row(Name='Brad', M1 Score=45, M2 Score=56)]"
      ]
     },
     "execution_count": 24,
     "metadata": {},
     "output_type": "execute_result"
    }
   ],
   "source": [
    "df1.head(2) # head willl return the top records i.e 2 records as mentioned in the head()."
   ]
  },
  {
   "cell_type": "code",
   "execution_count": 25,
   "id": "b6a2dc04",
   "metadata": {},
   "outputs": [
    {
     "name": "stdout",
     "output_type": "stream",
     "text": [
      "root\n",
      " |-- Name: string (nullable = true)\n",
      " |-- M1 Score: integer (nullable = true)\n",
      " |-- M2 Score: integer (nullable = true)\n",
      "\n"
     ]
    }
   ],
   "source": [
    "df1.printSchema() #tells you about the types of columns"
   ]
  },
  {
   "cell_type": "code",
   "execution_count": 26,
   "id": "5a5d645a",
   "metadata": {},
   "outputs": [],
   "source": [
    "from pyspark.sql import SparkSession\n",
    "spark = SparkSession.builder.appName(\"practice\").getOrCreate()\n"
   ]
  },
  {
   "cell_type": "code",
   "execution_count": 27,
   "id": "1dad7dca",
   "metadata": {},
   "outputs": [
    {
     "name": "stdout",
     "output_type": "stream",
     "text": [
      "root\n",
      " |-- Name: string (nullable = true)\n",
      " |-- M1 Score: integer (nullable = true)\n",
      " |-- M2 Score: integer (nullable = true)\n",
      "\n"
     ]
    }
   ],
   "source": [
    "## viewing schema\n",
    "df1.printSchema()"
   ]
  },
  {
   "cell_type": "code",
   "execution_count": 30,
   "id": "4f09edd6",
   "metadata": {},
   "outputs": [
    {
     "data": {
      "text/plain": [
       "['Name', 'M1 Score', 'M2 Score']"
      ]
     },
     "execution_count": 30,
     "metadata": {},
     "output_type": "execute_result"
    }
   ],
   "source": [
    "df1.columns"
   ]
  },
  {
   "cell_type": "code",
   "execution_count": 32,
   "id": "49cfd013",
   "metadata": {},
   "outputs": [
    {
     "data": {
      "text/plain": [
       "[Row(Name='Alex', M1 Score=62, M2 Score=80),\n",
       " Row(Name='Brad', M1 Score=45, M2 Score=56),\n",
       " Row(Name='Joey', M1 Score=85, M2 Score=98)]"
      ]
     },
     "execution_count": 32,
     "metadata": {},
     "output_type": "execute_result"
    }
   ],
   "source": [
    "df1.head(3) "
   ]
  },
  {
   "cell_type": "code",
   "execution_count": null,
   "id": "4c13eb0a",
   "metadata": {},
   "outputs": [],
   "source": []
  },
  {
   "cell_type": "code",
   "execution_count": null,
   "id": "5a3072dc",
   "metadata": {},
   "outputs": [],
   "source": []
  },
  {
   "cell_type": "code",
   "execution_count": null,
   "id": "0ecdf82d",
   "metadata": {},
   "outputs": [],
   "source": []
  }
 ],
 "metadata": {
  "kernelspec": {
   "display_name": "Python 3 (ipykernel)",
   "language": "python",
   "name": "python3"
  },
  "language_info": {
   "codemirror_mode": {
    "name": "ipython",
    "version": 3
   },
   "file_extension": ".py",
   "mimetype": "text/x-python",
   "name": "python",
   "nbconvert_exporter": "python",
   "pygments_lexer": "ipython3",
   "version": "3.11.4"
  }
 },
 "nbformat": 4,
 "nbformat_minor": 5
}
