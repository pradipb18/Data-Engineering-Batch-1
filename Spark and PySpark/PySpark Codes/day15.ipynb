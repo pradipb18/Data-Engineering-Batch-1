{
 "cells": [
  {
   "cell_type": "code",
   "execution_count": 22,
   "id": "3f2ff933",
   "metadata": {},
   "outputs": [],
   "source": [
    "from pyspark.sql import SparkSession\n"
   ]
  },
  {
   "cell_type": "code",
   "execution_count": 23,
   "id": "c81fd796",
   "metadata": {},
   "outputs": [],
   "source": [
    "spark = SparkSession \\\n",
    "    .builder \\\n",
    "    .appName(\"Python Spark SQL basic example\") \\\n",
    "    .config(\"spark.some.config.option\", \"some-value\") \\\n",
    "    .getOrCreate()"
   ]
  },
  {
   "cell_type": "code",
   "execution_count": 34,
   "id": "7386f105",
   "metadata": {},
   "outputs": [],
   "source": [
    "df = spark.read.csv(r\"C:\\Users\\pmboc\\Downloads\\student.csv\",header=True,inferSchema=True)"
   ]
  },
  {
   "cell_type": "code",
   "execution_count": 35,
   "id": "f589bab3",
   "metadata": {},
   "outputs": [
    {
     "name": "stdout",
     "output_type": "stream",
     "text": [
      "+---+-----------+-----+----+------+\n",
      "| id|       name|class|mark|gender|\n",
      "+---+-----------+-----+----+------+\n",
      "|  1|   John Deo| Four|  75|female|\n",
      "|  2|   Max Ruin|Three|  85|  male|\n",
      "|  3|     Arnold|Three|  55|  male|\n",
      "|  4| Krish Star| Four|  60|female|\n",
      "|  5|  John Mike| Four|  60|female|\n",
      "|  6|  Alex John| Four|  55|  male|\n",
      "|  7|My John Rob|Fifth|  78|  male|\n",
      "|  8|     Asruid| Five|  85|  male|\n",
      "|  9|    Tes Qry|  Six|  78|  male|\n",
      "| 10|   Big John| Four|  55|female|\n",
      "| 11|     Ronald|  Six|  89|female|\n",
      "| 12|      Recky|  Six|  94|female|\n",
      "| 13|        Kty|Seven|  88|female|\n",
      "| 14|       Bigy|Seven|  88|female|\n",
      "| 15|   Tade Row| Four|  88|  male|\n",
      "| 16|      Gimmy| Four|  88|  male|\n",
      "| 17|      Tumyu|  Six|  54|  male|\n",
      "| 18|      Honny| Five|  75|  male|\n",
      "| 19|      Tinny| Nine|  18|  male|\n",
      "| 20|     Jackly| Nine|  65|female|\n",
      "+---+-----------+-----+----+------+\n",
      "only showing top 20 rows\n",
      "\n"
     ]
    }
   ],
   "source": [
    "df.show()"
   ]
  },
  {
   "cell_type": "code",
   "execution_count": 36,
   "id": "3bf8ca56",
   "metadata": {},
   "outputs": [
    {
     "name": "stdout",
     "output_type": "stream",
     "text": [
      "root\n",
      " |-- id: integer (nullable = true)\n",
      " |-- name: string (nullable = true)\n",
      " |-- class: string (nullable = true)\n",
      " |-- mark: integer (nullable = true)\n",
      " |-- gender: string (nullable = true)\n",
      "\n"
     ]
    }
   ],
   "source": [
    "df.printSchema()"
   ]
  },
  {
   "cell_type": "code",
   "execution_count": 37,
   "id": "4d66a818",
   "metadata": {},
   "outputs": [
    {
     "name": "stdout",
     "output_type": "stream",
     "text": [
      "+-----------+\n",
      "|       name|\n",
      "+-----------+\n",
      "|   John Deo|\n",
      "|   Max Ruin|\n",
      "|     Arnold|\n",
      "| Krish Star|\n",
      "|  John Mike|\n",
      "|  Alex John|\n",
      "|My John Rob|\n",
      "|     Asruid|\n",
      "|    Tes Qry|\n",
      "|   Big John|\n",
      "|     Ronald|\n",
      "|      Recky|\n",
      "|        Kty|\n",
      "|       Bigy|\n",
      "|   Tade Row|\n",
      "|      Gimmy|\n",
      "|      Tumyu|\n",
      "|      Honny|\n",
      "|      Tinny|\n",
      "|     Jackly|\n",
      "+-----------+\n",
      "only showing top 20 rows\n",
      "\n"
     ]
    }
   ],
   "source": [
    "df.select(\"name\").show()"
   ]
  },
  {
   "cell_type": "code",
   "execution_count": 38,
   "id": "4945927a",
   "metadata": {},
   "outputs": [
    {
     "name": "stdout",
     "output_type": "stream",
     "text": [
      "+-----------+----------+\n",
      "|       name|(mark + 1)|\n",
      "+-----------+----------+\n",
      "|   John Deo|        76|\n",
      "|   Max Ruin|        86|\n",
      "|     Arnold|        56|\n",
      "| Krish Star|        61|\n",
      "|  John Mike|        61|\n",
      "|  Alex John|        56|\n",
      "|My John Rob|        79|\n",
      "|     Asruid|        86|\n",
      "|    Tes Qry|        79|\n",
      "|   Big John|        56|\n",
      "|     Ronald|        90|\n",
      "|      Recky|        95|\n",
      "|        Kty|        89|\n",
      "|       Bigy|        89|\n",
      "|   Tade Row|        89|\n",
      "|      Gimmy|        89|\n",
      "|      Tumyu|        55|\n",
      "|      Honny|        76|\n",
      "|      Tinny|        19|\n",
      "|     Jackly|        66|\n",
      "+-----------+----------+\n",
      "only showing top 20 rows\n",
      "\n"
     ]
    }
   ],
   "source": [
    "df.select(df['name'], df['mark'] + 1).show()"
   ]
  },
  {
   "cell_type": "code",
   "execution_count": 41,
   "id": "f42cb135",
   "metadata": {},
   "outputs": [
    {
     "name": "stdout",
     "output_type": "stream",
     "text": [
      "+---+-----------+-----+----+------+\n",
      "| id|       name|class|mark|gender|\n",
      "+---+-----------+-----+----+------+\n",
      "|  2|   Max Ruin|Three|  85|  male|\n",
      "|  8|     Asruid| Five|  85|  male|\n",
      "| 11|     Ronald|  Six|  89|female|\n",
      "| 12|      Recky|  Six|  94|female|\n",
      "| 13|        Kty|Seven|  88|female|\n",
      "| 14|       Bigy|Seven|  88|female|\n",
      "| 15|   Tade Row| Four|  88|  male|\n",
      "| 16|      Gimmy| Four|  88|  male|\n",
      "| 25|   Giff Tow|Seven|  88|  male|\n",
      "| 27|   Big Nose|Three|  81|female|\n",
      "| 28|  Rojj Base|Seven|  86|female|\n",
      "| 31|Marry Toeey| Four|  88|female|\n",
      "| 32|  Binn Rott|Seven|  90|female|\n",
      "| 33|  Kenn Rein|  Six|  96|female|\n",
      "| 35| Rows Noump|  Six|  88|female|\n",
      "+---+-----------+-----+----+------+\n",
      "\n"
     ]
    }
   ],
   "source": [
    "df.filter(df['mark'] > 80).show()"
   ]
  },
  {
   "cell_type": "code",
   "execution_count": 42,
   "id": "dcbaf8be",
   "metadata": {},
   "outputs": [
    {
     "name": "stdout",
     "output_type": "stream",
     "text": [
      "+-----+-----+\n",
      "|class|count|\n",
      "+-----+-----+\n",
      "| Five|    2|\n",
      "|  Six|    7|\n",
      "|Eight|    1|\n",
      "| Four|    9|\n",
      "|Seven|   10|\n",
      "| Nine|    2|\n",
      "|Three|    3|\n",
      "|Fifth|    1|\n",
      "+-----+-----+\n",
      "\n"
     ]
    }
   ],
   "source": [
    "df.groupBy(\"class\").count().show()"
   ]
  },
  {
   "cell_type": "code",
   "execution_count": 43,
   "id": "ede0cfa1",
   "metadata": {},
   "outputs": [],
   "source": [
    "df.createOrReplaceTempView(\"student\")"
   ]
  },
  {
   "cell_type": "code",
   "execution_count": 45,
   "id": "e6786749",
   "metadata": {},
   "outputs": [
    {
     "name": "stdout",
     "output_type": "stream",
     "text": [
      "+---+-----------+-----+----+------+\n",
      "| id|       name|class|mark|gender|\n",
      "+---+-----------+-----+----+------+\n",
      "|  1|   John Deo| Four|  75|female|\n",
      "|  2|   Max Ruin|Three|  85|  male|\n",
      "|  3|     Arnold|Three|  55|  male|\n",
      "|  4| Krish Star| Four|  60|female|\n",
      "|  5|  John Mike| Four|  60|female|\n",
      "|  6|  Alex John| Four|  55|  male|\n",
      "|  7|My John Rob|Fifth|  78|  male|\n",
      "|  8|     Asruid| Five|  85|  male|\n",
      "|  9|    Tes Qry|  Six|  78|  male|\n",
      "| 10|   Big John| Four|  55|female|\n",
      "| 11|     Ronald|  Six|  89|female|\n",
      "| 12|      Recky|  Six|  94|female|\n",
      "| 13|        Kty|Seven|  88|female|\n",
      "| 14|       Bigy|Seven|  88|female|\n",
      "| 15|   Tade Row| Four|  88|  male|\n",
      "| 16|      Gimmy| Four|  88|  male|\n",
      "| 17|      Tumyu|  Six|  54|  male|\n",
      "| 18|      Honny| Five|  75|  male|\n",
      "| 19|      Tinny| Nine|  18|  male|\n",
      "| 20|     Jackly| Nine|  65|female|\n",
      "+---+-----------+-----+----+------+\n",
      "only showing top 20 rows\n",
      "\n"
     ]
    }
   ],
   "source": [
    "sqlDF = spark.sql(\"SELECT * FROM student\")\n",
    "sqlDF.show()"
   ]
  },
  {
   "cell_type": "code",
   "execution_count": 46,
   "id": "6924ccdd",
   "metadata": {},
   "outputs": [],
   "source": [
    "df.createGlobalTempView(\"student\")"
   ]
  },
  {
   "cell_type": "code",
   "execution_count": 47,
   "id": "a67b8290",
   "metadata": {},
   "outputs": [
    {
     "name": "stdout",
     "output_type": "stream",
     "text": [
      "+---+-----------+-----+----+------+\n",
      "| id|       name|class|mark|gender|\n",
      "+---+-----------+-----+----+------+\n",
      "|  1|   John Deo| Four|  75|female|\n",
      "|  2|   Max Ruin|Three|  85|  male|\n",
      "|  3|     Arnold|Three|  55|  male|\n",
      "|  4| Krish Star| Four|  60|female|\n",
      "|  5|  John Mike| Four|  60|female|\n",
      "|  6|  Alex John| Four|  55|  male|\n",
      "|  7|My John Rob|Fifth|  78|  male|\n",
      "|  8|     Asruid| Five|  85|  male|\n",
      "|  9|    Tes Qry|  Six|  78|  male|\n",
      "| 10|   Big John| Four|  55|female|\n",
      "| 11|     Ronald|  Six|  89|female|\n",
      "| 12|      Recky|  Six|  94|female|\n",
      "| 13|        Kty|Seven|  88|female|\n",
      "| 14|       Bigy|Seven|  88|female|\n",
      "| 15|   Tade Row| Four|  88|  male|\n",
      "| 16|      Gimmy| Four|  88|  male|\n",
      "| 17|      Tumyu|  Six|  54|  male|\n",
      "| 18|      Honny| Five|  75|  male|\n",
      "| 19|      Tinny| Nine|  18|  male|\n",
      "| 20|     Jackly| Nine|  65|female|\n",
      "+---+-----------+-----+----+------+\n",
      "only showing top 20 rows\n",
      "\n"
     ]
    }
   ],
   "source": [
    "spark.sql(\"SELECT * FROM global_temp.student\").show()"
   ]
  },
  {
   "cell_type": "code",
   "execution_count": null,
   "id": "7cae99fe",
   "metadata": {},
   "outputs": [],
   "source": []
  }
 ],
 "metadata": {
  "kernelspec": {
   "display_name": "Python 3 (ipykernel)",
   "language": "python",
   "name": "python3"
  },
  "language_info": {
   "codemirror_mode": {
    "name": "ipython",
    "version": 3
   },
   "file_extension": ".py",
   "mimetype": "text/x-python",
   "name": "python",
   "nbconvert_exporter": "python",
   "pygments_lexer": "ipython3",
   "version": "3.11.5"
  }
 },
 "nbformat": 4,
 "nbformat_minor": 5
}
