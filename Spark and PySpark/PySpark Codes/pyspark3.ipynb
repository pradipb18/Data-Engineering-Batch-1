{
 "cells": [
  {
   "cell_type": "code",
   "execution_count": 1,
   "id": "a2445122",
   "metadata": {},
   "outputs": [],
   "source": [
    "from pyspark.sql import SparkSession"
   ]
  },
  {
   "cell_type": "code",
   "execution_count": 2,
   "id": "19f47160",
   "metadata": {},
   "outputs": [],
   "source": [
    "spark = SparkSession.builder \\\n",
    "    .master(\"local[1]\") \\\n",
    "    .appName(\"SparkByExamples.com\") \\\n",
    "    .getOrCreate()"
   ]
  },
  {
   "cell_type": "code",
   "execution_count": 3,
   "id": "fefa4da1",
   "metadata": {},
   "outputs": [],
   "source": [
    "dataList = [(\"Java\", 20000), (\"Python\", 100000), (\"Scala\", 3000)]\n",
    "rdd = spark.sparkContext.parallelize(dataList)"
   ]
  },
  {
   "cell_type": "code",
   "execution_count": 10,
   "id": "d9c98da2",
   "metadata": {},
   "outputs": [
    {
     "name": "stdout",
     "output_type": "stream",
     "text": [
      "[('Java', 20000), ('Python', 100000), ('Scala', 3000)]\n"
     ]
    }
   ],
   "source": [
    "print(rdd.collect())"
   ]
  },
  {
   "cell_type": "code",
   "execution_count": 7,
   "id": "26f75bcb",
   "metadata": {},
   "outputs": [],
   "source": [
    "rdd2 = spark.sparkContext.textFile(r\"C:\\Users\\pmboc\\Downloads\\SQL Coding Challeng Q1.txt\")"
   ]
  },
  {
   "cell_type": "code",
   "execution_count": 9,
   "id": "090c4808",
   "metadata": {},
   "outputs": [
    {
     "name": "stdout",
     "output_type": "stream",
     "text": [
      "[' ', '', '', 'CREATE TABLE employee (', '         employee_id INT PRIMARY KEY,', '         first_name VARCHAR(50),', '         last_name VARCHAR(50),', '         department VARCHAR(50),', '         salary DECIMAL(10, 2)', '     );', '', '', 'INSERT INTO employee (employee_id, first_name, last_name, department, salary)', '     VALUES', \"         (1, 'Pradip', 'Bochare', 'IT', 60000.00),\", \"         (2, 'Vedant', 'Joshi', 'HR', 55000.00),\", \"         (3, 'Vinay', 'Natkar', 'Finance', 70000.00),\", \"         (4, 'Vikrant', 'Pachbhai', 'Marketing', 62000.00),\", \"         (5, 'Abhishek', 'Zune', 'IT', 58000.00);\", '', '', '   SELECT', '         employee_id,', '         first_name,', '         last_name,', '         department,', '         salary,', '         SUM(salary) OVER (PARTITION BY department) AS department_total_salary,', '         AVG(salary) OVER () AS overall_avg_salary', '     FROM', '         employee;', '', '', '   SELECT', '         department,', '         SUM(salary) AS department_total_salary,', '         AVG(salary) AS department_avg_salary', '     FROM', '         employee', '     GROUP BY', '         department', '     WITH ROLLUP;', '', '']\n"
     ]
    }
   ],
   "source": [
    "print(rdd2.collect())"
   ]
  },
  {
   "cell_type": "code",
   "execution_count": null,
   "id": "7fe7bdb7",
   "metadata": {},
   "outputs": [],
   "source": []
  }
 ],
 "metadata": {
  "kernelspec": {
   "display_name": "Python 3 (ipykernel)",
   "language": "python",
   "name": "python3"
  },
  "language_info": {
   "codemirror_mode": {
    "name": "ipython",
    "version": 3
   },
   "file_extension": ".py",
   "mimetype": "text/x-python",
   "name": "python",
   "nbconvert_exporter": "python",
   "pygments_lexer": "ipython3",
   "version": "3.11.5"
  }
 },
 "nbformat": 4,
 "nbformat_minor": 5
}
