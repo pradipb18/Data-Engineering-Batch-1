{
 "cells": [
  {
   "cell_type": "code",
   "execution_count": 25,
   "id": "7fa29992",
   "metadata": {},
   "outputs": [],
   "source": [
    "from pyspark.sql import SparkSession "
   ]
  },
  {
   "cell_type": "code",
   "execution_count": 26,
   "id": "93376a4d",
   "metadata": {},
   "outputs": [],
   "source": [
    "spark = SparkSession.builder.appName(\"DataFrame\").getOrCreate() "
   ]
  },
  {
   "cell_type": "code",
   "execution_count": 27,
   "id": "faf2b12e",
   "metadata": {},
   "outputs": [],
   "source": [
    "df = spark.read.text(r\"C:\\Users\\pmboc\\Downloads\\day14.txt\")"
   ]
  },
  {
   "cell_type": "code",
   "execution_count": 28,
   "id": "6c93d152",
   "metadata": {},
   "outputs": [
    {
     "name": "stdout",
     "output_type": "stream",
     "text": [
      "+----------------------------+\n",
      "|Text_Data_In_Rows_Using_Text|\n",
      "+----------------------------+\n",
      "|[A, 1, Shubham]             |\n",
      "|[B, 2, Anurag]              |\n",
      "|[C, 3, Raman]               |\n",
      "|[D, 4, Rakesh]              |\n",
      "+----------------------------+\n",
      "\n"
     ]
    }
   ],
   "source": [
    "df.selectExpr(\"split(value, ' ') as Text_Data_In_Rows_Using_Text\").show(4,False)"
   ]
  },
  {
   "cell_type": "code",
   "execution_count": 29,
   "id": "df981529",
   "metadata": {},
   "outputs": [],
   "source": [
    "df = spark.read.csv(r\"C:\\Users\\pmboc\\Downloads\\day14.txt\")"
   ]
  },
  {
   "cell_type": "code",
   "execution_count": 30,
   "id": "bbd3a48f",
   "metadata": {},
   "outputs": [
    {
     "name": "stdout",
     "output_type": "stream",
     "text": [
      "+---------------------------+\n",
      "|Text_Data_In_Rows_Using_CSV|\n",
      "+---------------------------+\n",
      "|[A, 1, Shubham]            |\n",
      "|[B, 2, Anurag]             |\n",
      "|[C, 3, Raman]              |\n",
      "|[D, 4, Rakesh]             |\n",
      "+---------------------------+\n",
      "\n"
     ]
    }
   ],
   "source": [
    "df.selectExpr(\"split(_c0, ' ') as Text_Data_In_Rows_Using_CSV\").show(4,False)"
   ]
  },
  {
   "cell_type": "code",
   "execution_count": 31,
   "id": "afc48dcf",
   "metadata": {},
   "outputs": [],
   "source": [
    "df = spark.read.format(\"text\").load(r\"C:\\Users\\pmboc\\Downloads\\day14.txt\")"
   ]
  },
  {
   "cell_type": "code",
   "execution_count": 32,
   "id": "2fecb1f3",
   "metadata": {},
   "outputs": [
    {
     "name": "stdout",
     "output_type": "stream",
     "text": [
      "+-----------------------------------+\n",
      "|Text_Data_In_Rows_Using_format_load|\n",
      "+-----------------------------------+\n",
      "|[A, 1, Shubham]                    |\n",
      "|[B, 2, Anurag]                     |\n",
      "|[C, 3, Raman]                      |\n",
      "|[D, 4, Rakesh]                     |\n",
      "+-----------------------------------+\n",
      "\n"
     ]
    }
   ],
   "source": [
    "df.selectExpr(\"split(value, ' ') as Text_Data_In_Rows_Using_format_load\").show(4,False)"
   ]
  },
  {
   "cell_type": "code",
   "execution_count": null,
   "id": "90774c7d",
   "metadata": {},
   "outputs": [],
   "source": []
  }
 ],
 "metadata": {
  "kernelspec": {
   "display_name": "Python 3 (ipykernel)",
   "language": "python",
   "name": "python3"
  },
  "language_info": {
   "codemirror_mode": {
    "name": "ipython",
    "version": 3
   },
   "file_extension": ".py",
   "mimetype": "text/x-python",
   "name": "python",
   "nbconvert_exporter": "python",
   "pygments_lexer": "ipython3",
   "version": "3.11.5"
  }
 },
 "nbformat": 4,
 "nbformat_minor": 5
}
