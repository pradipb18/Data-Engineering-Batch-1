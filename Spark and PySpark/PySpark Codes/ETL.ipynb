{
 "cells": [
  {
   "cell_type": "code",
   "execution_count": 18,
   "id": "a41b0318",
   "metadata": {},
   "outputs": [],
   "source": [
    "# ETL stands for \n",
    "\n",
    "# Extract: extract the data from the different sources\n",
    "\n",
    "# Transform: Transform the unstructured data into structured data. Transformations like cleaning, manipulation, etc.\n",
    "\n",
    "# Load : Load the transformed data into a location or date warehouse.\n"
   ]
  },
  {
   "cell_type": "code",
   "execution_count": 19,
   "id": "574aa579",
   "metadata": {},
   "outputs": [],
   "source": [
    "from pyspark.sql import SparkSession\n",
    "from pyspark.sql.functions import col,concat,lit,floor,rand\n",
    "spark = SparkSession.builder.appName(\"ETLPractice\").getOrCreate()\n",
    "source_path = \"orders.csv\"\n",
    "target_path = \"order_result.csv\"\n",
    "load_data = spark.read.csv(\"orders.csv\",header = True, inferSchema = True) \n"
   ]
  },
  {
   "cell_type": "code",
   "execution_count": 20,
   "id": "ff669f41",
   "metadata": {},
   "outputs": [
    {
     "name": "stdout",
     "output_type": "stream",
     "text": [
      "+-------+----------+----------+----------+-----------+\n",
      "|cust_id|cust_fname|cust_lname|cust_order|cust_status|\n",
      "+-------+----------+----------+----------+-----------+\n",
      "|      1|      john|       doe|         5|     active|\n",
      "|      2|      jane|     smith|         8|     active|\n",
      "|      3|   micheal|   jhonson|         3|   inactive|\n",
      "|      4|      abhi|   wiliams|         1|     active|\n",
      "|      5|       ram|     brown|         4|   inactive|\n",
      "+-------+----------+----------+----------+-----------+\n",
      "only showing top 5 rows\n",
      "\n"
     ]
    }
   ],
   "source": [
    "load_data.columns\n",
    "load_data.show(5)\n"
   ]
  },
  {
   "cell_type": "code",
   "execution_count": 21,
   "id": "dd84ff8f",
   "metadata": {},
   "outputs": [
    {
     "name": "stdout",
     "output_type": "stream",
     "text": [
      "+-------+----------+----------+----------+-----------+---------------+\n",
      "|cust_id|cust_fname|cust_lname|cust_order|cust_status|      full_name|\n",
      "+-------+----------+----------+----------+-----------+---------------+\n",
      "|      1|      john|       doe|         5|     active|       john doe|\n",
      "|      2|      jane|     smith|         8|     active|     jane smith|\n",
      "|      3|   micheal|   jhonson|         3|   inactive|micheal jhonson|\n",
      "|      4|      abhi|   wiliams|         1|     active|   abhi wiliams|\n",
      "|      5|       ram|     brown|         4|   inactive|      ram brown|\n",
      "|      6|     emily|  anderson|         2|     active| emily anderson|\n",
      "|      7|   william|     jones|        10|     active|  william jones|\n",
      "|      8|     susan|     davis|         7|   inactive|    susan davis|\n",
      "|      9|     david|    miller|         9|     active|   david miller|\n",
      "|     10|      sara|     moore|         2|   inactive|     sara moore|\n",
      "+-------+----------+----------+----------+-----------+---------------+\n",
      "only showing top 10 rows\n",
      "\n"
     ]
    }
   ],
   "source": [
    " #Transformation 1: Concatenate First and Last Names\n",
    "load_data = load_data.withColumn('full_name', concat(col('cust_fname'), lit(' '), col('cust_lname')))\n",
    "load_data.show(10)"
   ]
  },
  {
   "cell_type": "code",
   "execution_count": 22,
   "id": "48f148e0",
   "metadata": {},
   "outputs": [
    {
     "name": "stdout",
     "output_type": "stream",
     "text": [
      "+-------+----------+----------+----------+-----------+---------------+----------+\n",
      "|cust_id|cust_fname|cust_lname|cust_order|cust_status|      full_name|net_salary|\n",
      "+-------+----------+----------+----------+-----------+---------------+----------+\n",
      "|      1|      john|       doe|         5|     active|       john doe|     10038|\n",
      "|      2|      jane|     smith|         8|     active|     jane smith|     10034|\n",
      "|      3|   micheal|   jhonson|         3|   inactive|micheal jhonson|     10020|\n",
      "|      4|      abhi|   wiliams|         1|     active|   abhi wiliams|     10020|\n",
      "|      5|       ram|     brown|         4|   inactive|      ram brown|     10021|\n",
      "|      6|     emily|  anderson|         2|     active| emily anderson|     10003|\n",
      "|      7|   william|     jones|        10|     active|  william jones|     10009|\n",
      "|      8|     susan|     davis|         7|   inactive|    susan davis|     10015|\n",
      "|      9|     david|    miller|         9|     active|   david miller|     10010|\n",
      "|     10|      sara|     moore|         2|   inactive|     sara moore|     10002|\n",
      "+-------+----------+----------+----------+-----------+---------------+----------+\n",
      "only showing top 10 rows\n",
      "\n"
     ]
    }
   ],
   "source": [
    "# Transformation 2: Calculate Net Salary (subtract 10% as taxes)\n",
    "load_data = load_data.withColumn('net_salary', floor(lit(10000) + rand() * lit(50)))\n",
    "load_data.show(10)"
   ]
  },
  {
   "cell_type": "code",
   "execution_count": 23,
   "id": "381e5b9d",
   "metadata": {},
   "outputs": [
    {
     "name": "stdout",
     "output_type": "stream",
     "text": [
      "+-------+----------+----------+----------+-----------+---------------+----------+---+\n",
      "|cust_id|cust_fname|cust_lname|cust_order|cust_status|      full_name|net_salary|age|\n",
      "+-------+----------+----------+----------+-----------+---------------+----------+---+\n",
      "|      1|      john|       doe|         5|     active|       john doe|     10038| 23|\n",
      "|      2|      jane|     smith|         8|     active|     jane smith|     10034| 40|\n",
      "|      3|   micheal|   jhonson|         3|   inactive|micheal jhonson|     10020| 45|\n",
      "|      4|      abhi|   wiliams|         1|     active|   abhi wiliams|     10020| 21|\n",
      "|      5|       ram|     brown|         4|   inactive|      ram brown|     10021| 29|\n",
      "|      6|     emily|  anderson|         2|     active| emily anderson|     10003| 38|\n",
      "|      7|   william|     jones|        10|     active|  william jones|     10009| 35|\n",
      "|      8|     susan|     davis|         7|   inactive|    susan davis|     10015| 42|\n",
      "|      9|     david|    miller|         9|     active|   david miller|     10010| 29|\n",
      "|     10|      sara|     moore|         2|   inactive|     sara moore|     10002| 41|\n",
      "+-------+----------+----------+----------+-----------+---------------+----------+---+\n",
      "only showing top 10 rows\n",
      "\n"
     ]
    }
   ],
   "source": [
    "#adding age column\n",
    "load_data = load_data.withColumn('age', floor(lit(20) + rand() * lit(31)))\n",
    "load_data.show(10)"
   ]
  },
  {
   "cell_type": "code",
   "execution_count": 24,
   "id": "a06b4e88",
   "metadata": {},
   "outputs": [
    {
     "name": "stdout",
     "output_type": "stream",
     "text": [
      "+-------+----------+----------+----------+-----------+---------------+----------+---+\n",
      "|cust_id|cust_fname|cust_lname|cust_order|cust_status|      full_name|net_salary|age|\n",
      "+-------+----------+----------+----------+-----------+---------------+----------+---+\n",
      "|      2|      jane|     smith|         8|     active|     jane smith|     10034| 40|\n",
      "|      3|   micheal|   jhonson|         3|   inactive|micheal jhonson|     10020| 45|\n",
      "|      6|     emily|  anderson|         2|     active| emily anderson|     10003| 38|\n",
      "|      7|   william|     jones|        10|     active|  william jones|     10009| 35|\n",
      "|      8|     susan|     davis|         7|   inactive|    susan davis|     10015| 42|\n",
      "|     10|      sara|     moore|         2|   inactive|     sara moore|     10002| 41|\n",
      "|     11|     james|    tailor|         5|   inactive|   james tailor|     10045| 31|\n",
      "|     12|    olivia|    wilson|         3|   inactive|  olivia wilson|     10002| 44|\n",
      "|     13|    robert|     evans|        11|     active|   robert evans|     10021| 48|\n",
      "|     14|      emma|    thomas|        29|     active|    emma thomas|     10014| 38|\n",
      "|     16|  isabella|     white|         6|   inactive| isabella white|     10011| 41|\n",
      "|     17|    joseph|    martin|         4|   inactive|  joseph martin|     10013| 43|\n",
      "|     18|     grace|       lee|         5|     active|      grace lee|     10039| 47|\n",
      "|     19|chrisopher|      basa|         8|   inactive|chrisopher basa|     10008| 48|\n",
      "|     20|       ava|    joesph|         3|     active|     ava joesph|     10041| 46|\n",
      "+-------+----------+----------+----------+-----------+---------------+----------+---+\n",
      "\n"
     ]
    }
   ],
   "source": [
    "# # Transformation 3: Filter by Age (age >= 30)\n",
    "load_data = load_data.filter(col('age')>= 30)\n",
    "load_data.show()\n"
   ]
  },
  {
   "cell_type": "code",
   "execution_count": 25,
   "id": "9847c661",
   "metadata": {},
   "outputs": [
    {
     "name": "stdout",
     "output_type": "stream",
     "text": [
      "+---+---------------+\n",
      "|age|avg(net_salary)|\n",
      "+---+---------------+\n",
      "| 43|        10013.0|\n",
      "| 31|        10045.0|\n",
      "| 41|        10006.5|\n",
      "| 48|        10014.5|\n",
      "| 44|        10002.0|\n",
      "| 35|        10009.0|\n",
      "| 38|        10008.5|\n",
      "| 42|        10015.0|\n",
      "| 46|        10041.0|\n",
      "| 40|        10034.0|\n",
      "| 45|        10020.0|\n",
      "| 47|        10039.0|\n",
      "+---+---------------+\n",
      "\n"
     ]
    }
   ],
   "source": [
    "# Transformation 4: Group by Age and Calculate Average Salary\n",
    "avg_salary_by_age = load_data.groupBy('age').agg({'net_salary' :'avg'}).withColumnRenamed('avg(salary)', 'avg_salary')\n",
    "avg_salary_by_age.show()"
   ]
  },
  {
   "cell_type": "code",
   "execution_count": 26,
   "id": "0a2b76aa",
   "metadata": {},
   "outputs": [
    {
     "name": "stdout",
     "output_type": "stream",
     "text": [
      "+-------+----------+----------+----------+-----------+---------------+----------+---+\n",
      "|cust_id|cust_fname|cust_lname|cust_order|cust_status|      full_name|net_salary|age|\n",
      "+-------+----------+----------+----------+-----------+---------------+----------+---+\n",
      "|     11|     james|    tailor|         5|   inactive|   james tailor|     10045| 31|\n",
      "|      7|   william|     jones|        10|     active|  william jones|     10009| 35|\n",
      "|      6|     emily|  anderson|         2|     active| emily anderson|     10003| 38|\n",
      "|     14|      emma|    thomas|        29|     active|    emma thomas|     10014| 38|\n",
      "|      2|      jane|     smith|         8|     active|     jane smith|     10034| 40|\n",
      "|     10|      sara|     moore|         2|   inactive|     sara moore|     10002| 41|\n",
      "|     16|  isabella|     white|         6|   inactive| isabella white|     10011| 41|\n",
      "|      8|     susan|     davis|         7|   inactive|    susan davis|     10015| 42|\n",
      "|     17|    joseph|    martin|         4|   inactive|  joseph martin|     10013| 43|\n",
      "|     12|    olivia|    wilson|         3|   inactive|  olivia wilson|     10002| 44|\n",
      "|      3|   micheal|   jhonson|         3|   inactive|micheal jhonson|     10020| 45|\n",
      "|     20|       ava|    joesph|         3|     active|     ava joesph|     10041| 46|\n",
      "|     18|     grace|       lee|         5|     active|      grace lee|     10039| 47|\n",
      "|     13|    robert|     evans|        11|     active|   robert evans|     10021| 48|\n",
      "|     19|chrisopher|      basa|         8|   inactive|chrisopher basa|     10008| 48|\n",
      "+-------+----------+----------+----------+-----------+---------------+----------+---+\n",
      "\n"
     ]
    }
   ],
   "source": [
    "load_data = load_data.orderBy(\"age\")\n",
    "load_data.show()"
   ]
  },
  {
   "cell_type": "code",
   "execution_count": null,
   "id": "2bb7cc1e",
   "metadata": {},
   "outputs": [],
   "source": [
    "# Save the transformed data to an external CSV file\n",
    "load_data.write.csv(target_path, mode='overwrite', header=True)"
   ]
  },
  {
   "cell_type": "code",
   "execution_count": null,
   "id": "99c311c5",
   "metadata": {},
   "outputs": [],
   "source": []
  },
  {
   "cell_type": "code",
   "execution_count": null,
   "id": "45d7ec36",
   "metadata": {},
   "outputs": [],
   "source": []
  }
 ],
 "metadata": {
  "kernelspec": {
   "display_name": "Python 3 (ipykernel)",
   "language": "python",
   "name": "python3"
  },
  "language_info": {
   "codemirror_mode": {
    "name": "ipython",
    "version": 3
   },
   "file_extension": ".py",
   "mimetype": "text/x-python",
   "name": "python",
   "nbconvert_exporter": "python",
   "pygments_lexer": "ipython3",
   "version": "3.11.4"
  }
 },
 "nbformat": 4,
 "nbformat_minor": 5
}
