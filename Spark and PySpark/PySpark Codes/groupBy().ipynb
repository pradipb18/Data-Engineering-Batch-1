{
 "cells": [
  {
   "cell_type": "code",
   "execution_count": 19,
   "id": "e49c97ea",
   "metadata": {},
   "outputs": [],
   "source": [
    "from pyspark.sql import SparkSession"
   ]
  },
  {
   "cell_type": "code",
   "execution_count": 20,
   "id": "a54348ee",
   "metadata": {},
   "outputs": [],
   "source": [
    "spark=SparkSession.builder.appName(\"Practice\").getOrCreate()"
   ]
  },
  {
   "cell_type": "code",
   "execution_count": 21,
   "id": "624d5c1a",
   "metadata": {},
   "outputs": [],
   "source": [
    "df_pyspark=spark.read.csv(r\"C:\\Users\\pmboc\\Downloads\\student.csv\",header=True,inferSchema=True)"
   ]
  },
  {
   "cell_type": "code",
   "execution_count": 22,
   "id": "9c0cb0eb",
   "metadata": {},
   "outputs": [
    {
     "name": "stdout",
     "output_type": "stream",
     "text": [
      "+---+-----------+-----+----+------+\n",
      "| id|       name|class|mark|gender|\n",
      "+---+-----------+-----+----+------+\n",
      "|  1|   John Deo| Four|  75|female|\n",
      "|  2|   Max Ruin|Three|  85|  male|\n",
      "|  3|     Arnold|Three|  55|  male|\n",
      "|  4| Krish Star| Four|  60|female|\n",
      "|  5|  John Mike| Four|  60|female|\n",
      "|  6|  Alex John| Four|  55|  male|\n",
      "|  7|My John Rob|Fifth|  78|  male|\n",
      "|  8|     Asruid| Five|  85|  male|\n",
      "|  9|    Tes Qry|  Six|  78|  male|\n",
      "| 10|   Big John| Four|  55|female|\n",
      "| 11|     Ronald|  Six|  89|female|\n",
      "| 12|      Recky|  Six|  94|female|\n",
      "| 13|        Kty|Seven|  88|female|\n",
      "| 14|       Bigy|Seven|  88|female|\n",
      "| 15|   Tade Row| Four|  88|  male|\n",
      "| 16|      Gimmy| Four|  88|  male|\n",
      "| 17|      Tumyu|  Six|  54|  male|\n",
      "| 18|      Honny| Five|  75|  male|\n",
      "| 19|      Tinny| Nine|  18|  male|\n",
      "| 20|     Jackly| Nine|  65|female|\n",
      "+---+-----------+-----+----+------+\n",
      "only showing top 20 rows\n",
      "\n"
     ]
    }
   ],
   "source": [
    "df_pyspark.show()"
   ]
  },
  {
   "cell_type": "code",
   "execution_count": 23,
   "id": "df20f492",
   "metadata": {},
   "outputs": [
    {
     "name": "stdout",
     "output_type": "stream",
     "text": [
      "+------+---------+\n",
      "|gender|sum(mark)|\n",
      "+------+---------+\n",
      "|female|     1406|\n",
      "|  male|     1207|\n",
      "+------+---------+\n",
      "\n"
     ]
    }
   ],
   "source": [
    "df_pyspark.groupBy(\"gender\").sum(\"mark\").show()"
   ]
  },
  {
   "cell_type": "code",
   "execution_count": 24,
   "id": "2aa398ea",
   "metadata": {},
   "outputs": [
    {
     "name": "stdout",
     "output_type": "stream",
     "text": [
      "+-----+---------+\n",
      "|class|sum(mark)|\n",
      "+-----+---------+\n",
      "| Five|      160|\n",
      "|  Six|      578|\n",
      "|Eight|       79|\n",
      "| Four|      638|\n",
      "|Seven|      776|\n",
      "| Nine|       83|\n",
      "|Three|      221|\n",
      "|Fifth|       78|\n",
      "+-----+---------+\n",
      "\n"
     ]
    }
   ],
   "source": [
    "df_pyspark.groupBy(\"class\").sum(\"mark\").show()"
   ]
  },
  {
   "cell_type": "code",
   "execution_count": 25,
   "id": "4b123a27",
   "metadata": {},
   "outputs": [
    {
     "name": "stdout",
     "output_type": "stream",
     "text": [
      "+-----+---------+\n",
      "|class|min(mark)|\n",
      "+-----+---------+\n",
      "| Five|       75|\n",
      "|  Six|       54|\n",
      "|Eight|       79|\n",
      "| Four|       55|\n",
      "|Seven|       55|\n",
      "| Nine|       18|\n",
      "|Three|       55|\n",
      "|Fifth|       78|\n",
      "+-----+---------+\n",
      "\n"
     ]
    }
   ],
   "source": [
    "df_pyspark.groupBy(\"class\").min(\"mark\").show()"
   ]
  },
  {
   "cell_type": "code",
   "execution_count": 26,
   "id": "f6908e6d",
   "metadata": {},
   "outputs": [
    {
     "name": "stdout",
     "output_type": "stream",
     "text": [
      "+-----+---------+\n",
      "|class|max(mark)|\n",
      "+-----+---------+\n",
      "| Five|       85|\n",
      "|  Six|       96|\n",
      "|Eight|       79|\n",
      "| Four|       88|\n",
      "|Seven|       90|\n",
      "| Nine|       65|\n",
      "|Three|       85|\n",
      "|Fifth|       78|\n",
      "+-----+---------+\n",
      "\n"
     ]
    }
   ],
   "source": [
    "df_pyspark.groupBy(\"class\").max(\"mark\").show()"
   ]
  },
  {
   "cell_type": "code",
   "execution_count": 27,
   "id": "1b6030c0",
   "metadata": {},
   "outputs": [
    {
     "name": "stdout",
     "output_type": "stream",
     "text": [
      "+-----+-----------------+\n",
      "|class|        avg(mark)|\n",
      "+-----+-----------------+\n",
      "| Five|             80.0|\n",
      "|  Six|82.57142857142857|\n",
      "|Eight|             79.0|\n",
      "| Four|70.88888888888889|\n",
      "|Seven|             77.6|\n",
      "| Nine|             41.5|\n",
      "|Three|73.66666666666667|\n",
      "|Fifth|             78.0|\n",
      "+-----+-----------------+\n",
      "\n"
     ]
    }
   ],
   "source": [
    "df_pyspark.groupBy(\"class\").avg(\"mark\").show()"
   ]
  },
  {
   "cell_type": "code",
   "execution_count": 28,
   "id": "c622f5f1",
   "metadata": {},
   "outputs": [
    {
     "name": "stdout",
     "output_type": "stream",
     "text": [
      "+-----+-----------------+\n",
      "|class|        avg(mark)|\n",
      "+-----+-----------------+\n",
      "| Five|             80.0|\n",
      "|  Six|82.57142857142857|\n",
      "|Eight|             79.0|\n",
      "| Four|70.88888888888889|\n",
      "|Seven|             77.6|\n",
      "| Nine|             41.5|\n",
      "|Three|73.66666666666667|\n",
      "|Fifth|             78.0|\n",
      "+-----+-----------------+\n",
      "\n"
     ]
    }
   ],
   "source": [
    "df_pyspark.groupBy(\"class\").mean(\"mark\").show()"
   ]
  },
  {
   "cell_type": "code",
   "execution_count": 29,
   "id": "c4b276b4",
   "metadata": {},
   "outputs": [
    {
     "name": "stdout",
     "output_type": "stream",
     "text": [
      "+-----+-----+\n",
      "|class|count|\n",
      "+-----+-----+\n",
      "| Five|    2|\n",
      "|  Six|    7|\n",
      "|Eight|    1|\n",
      "| Four|    9|\n",
      "|Seven|   10|\n",
      "| Nine|    2|\n",
      "|Three|    3|\n",
      "|Fifth|    1|\n",
      "+-----+-----+\n",
      "\n"
     ]
    }
   ],
   "source": [
    "df_pyspark.groupBy(\"class\").count().show()"
   ]
  },
  {
   "cell_type": "code",
   "execution_count": 30,
   "id": "8f931620",
   "metadata": {},
   "outputs": [
    {
     "name": "stdout",
     "output_type": "stream",
     "text": [
      "+-----+---------+------+------+----------+--------+--------+----+---------+------+--------+--------+-----+-----+-----+------+--------+---------+---------+----------+----+-----------+--------+-----------+-----+------+---------+---------+------+----------+--------+-------+-----------+---------+-----+-----+\n",
      "|class|Alex John|Arnold|Asruid|Babby John|Big John|Big Nose|Bigy|Binn Rott|Crelea|Gain Toe|Giff Tow|Gimmy|Herod|Honny|Jackly|John Deo|John Mike|Kenn Rein|Krish Star| Kty|Marry Toeey|Max Ruin|My John Rob|Recky|Reggid|Reppy Red|Rojj Base|Ronald|Rows Noump|Tade Row|Tes Qry|Tess Played|Tiddy Now|Tinny|Tumyu|\n",
      "+-----+---------+------+------+----------+--------+--------+----+---------+------+--------+--------+-----+-----+-----+------+--------+---------+---------+----------+----+-----------+--------+-----------+-----+------+---------+---------+------+----------+--------+-------+-----------+---------+-----+-----+\n",
      "| Five|     NULL|  NULL|    85|      NULL|    NULL|    NULL|NULL|     NULL|  NULL|    NULL|    NULL| NULL| NULL|   75|  NULL|    NULL|     NULL|     NULL|      NULL|NULL|       NULL|    NULL|       NULL| NULL|  NULL|     NULL|     NULL|  NULL|      NULL|    NULL|   NULL|       NULL|     NULL| NULL| NULL|\n",
      "|  Six|     NULL|  NULL|  NULL|      NULL|    NULL|    NULL|NULL|     NULL|  NULL|    NULL|    NULL| NULL| NULL| NULL|  NULL|    NULL|     NULL|       96|      NULL|NULL|       NULL|    NULL|       NULL|   94|  NULL|       79|     NULL|    89|        88|    NULL|     78|       NULL|     NULL| NULL|   54|\n",
      "|Eight|     NULL|  NULL|  NULL|      NULL|    NULL|    NULL|NULL|     NULL|  NULL|    NULL|    NULL| NULL|   79| NULL|  NULL|    NULL|     NULL|     NULL|      NULL|NULL|       NULL|    NULL|       NULL| NULL|  NULL|     NULL|     NULL|  NULL|      NULL|    NULL|   NULL|       NULL|     NULL| NULL| NULL|\n",
      "| Four|       55|  NULL|  NULL|        69|      55|    NULL|NULL|     NULL|  NULL|    NULL|    NULL|   88| NULL| NULL|  NULL|      75|       60|     NULL|        60|NULL|         88|    NULL|       NULL| NULL|  NULL|     NULL|     NULL|  NULL|      NULL|      88|   NULL|       NULL|     NULL| NULL| NULL|\n",
      "|Seven|     NULL|  NULL|  NULL|      NULL|    NULL|    NULL|  88|       90|    79|      69|      88| NULL| NULL| NULL|  NULL|    NULL|     NULL|     NULL|      NULL|  88|       NULL|    NULL|       NULL| NULL|    55|     NULL|       86|  NULL|      NULL|    NULL|   NULL|         55|       78| NULL| NULL|\n",
      "| Nine|     NULL|  NULL|  NULL|      NULL|    NULL|    NULL|NULL|     NULL|  NULL|    NULL|    NULL| NULL| NULL| NULL|    65|    NULL|     NULL|     NULL|      NULL|NULL|       NULL|    NULL|       NULL| NULL|  NULL|     NULL|     NULL|  NULL|      NULL|    NULL|   NULL|       NULL|     NULL|   18| NULL|\n",
      "|Three|     NULL|    55|  NULL|      NULL|    NULL|      81|NULL|     NULL|  NULL|    NULL|    NULL| NULL| NULL| NULL|  NULL|    NULL|     NULL|     NULL|      NULL|NULL|       NULL|      85|       NULL| NULL|  NULL|     NULL|     NULL|  NULL|      NULL|    NULL|   NULL|       NULL|     NULL| NULL| NULL|\n",
      "|Fifth|     NULL|  NULL|  NULL|      NULL|    NULL|    NULL|NULL|     NULL|  NULL|    NULL|    NULL| NULL| NULL| NULL|  NULL|    NULL|     NULL|     NULL|      NULL|NULL|       NULL|    NULL|         78| NULL|  NULL|     NULL|     NULL|  NULL|      NULL|    NULL|   NULL|       NULL|     NULL| NULL| NULL|\n",
      "+-----+---------+------+------+----------+--------+--------+----+---------+------+--------+--------+-----+-----+-----+------+--------+---------+---------+----------+----+-----------+--------+-----------+-----+------+---------+---------+------+----------+--------+-------+-----------+---------+-----+-----+\n",
      "\n"
     ]
    }
   ],
   "source": [
    "df_pyspark.groupBy(\"class\").pivot(\"name\").sum(\"mark\").show()"
   ]
  },
  {
   "cell_type": "code",
   "execution_count": 31,
   "id": "d5ab469f",
   "metadata": {},
   "outputs": [
    {
     "name": "stdout",
     "output_type": "stream",
     "text": [
      "+---+-----------+-----+----+------+\n",
      "| id|       name|class|mark|gender|\n",
      "+---+-----------+-----+----+------+\n",
      "| 19|      Tinny| Nine|  18|  male|\n",
      "| 17|      Tumyu|  Six|  54|  male|\n",
      "|  3|     Arnold|Three|  55|  male|\n",
      "|  6|  Alex John| Four|  55|  male|\n",
      "| 10|   Big John| Four|  55|female|\n",
      "| 22|     Reggid|Seven|  55|female|\n",
      "| 29|Tess Played|Seven|  55|  male|\n",
      "|  4| Krish Star| Four|  60|female|\n",
      "|  5|  John Mike| Four|  60|female|\n",
      "| 20|     Jackly| Nine|  65|female|\n",
      "| 21| Babby John| Four|  69|female|\n",
      "| 34|   Gain Toe|Seven|  69|  male|\n",
      "|  1|   John Deo| Four|  75|female|\n",
      "| 18|      Honny| Five|  75|  male|\n",
      "|  7|My John Rob|Fifth|  78|  male|\n",
      "|  9|    Tes Qry|  Six|  78|  male|\n",
      "| 24|  Tiddy Now|Seven|  78|  male|\n",
      "| 23|      Herod|Eight|  79|  male|\n",
      "| 26|     Crelea|Seven|  79|  male|\n",
      "| 30|  Reppy Red|  Six|  79|female|\n",
      "+---+-----------+-----+----+------+\n",
      "only showing top 20 rows\n",
      "\n"
     ]
    }
   ],
   "source": [
    "df_pyspark.sort(\"mark\").show()"
   ]
  },
  {
   "cell_type": "code",
   "execution_count": 32,
   "id": "281042c3",
   "metadata": {},
   "outputs": [
    {
     "name": "stdout",
     "output_type": "stream",
     "text": [
      "+---+-----------+-----+----+------+\n",
      "| id|       name|class|mark|gender|\n",
      "+---+-----------+-----+----+------+\n",
      "| 33|  Kenn Rein|  Six|  96|female|\n",
      "| 12|      Recky|  Six|  94|female|\n",
      "| 32|  Binn Rott|Seven|  90|female|\n",
      "| 11|     Ronald|  Six|  89|female|\n",
      "| 13|        Kty|Seven|  88|female|\n",
      "| 14|       Bigy|Seven|  88|female|\n",
      "| 15|   Tade Row| Four|  88|  male|\n",
      "| 16|      Gimmy| Four|  88|  male|\n",
      "| 25|   Giff Tow|Seven|  88|  male|\n",
      "| 31|Marry Toeey| Four|  88|female|\n",
      "| 35| Rows Noump|  Six|  88|female|\n",
      "| 28|  Rojj Base|Seven|  86|female|\n",
      "|  2|   Max Ruin|Three|  85|  male|\n",
      "|  8|     Asruid| Five|  85|  male|\n",
      "| 27|   Big Nose|Three|  81|female|\n",
      "| 23|      Herod|Eight|  79|  male|\n",
      "| 26|     Crelea|Seven|  79|  male|\n",
      "| 30|  Reppy Red|  Six|  79|female|\n",
      "|  7|My John Rob|Fifth|  78|  male|\n",
      "|  9|    Tes Qry|  Six|  78|  male|\n",
      "+---+-----------+-----+----+------+\n",
      "only showing top 20 rows\n",
      "\n"
     ]
    }
   ],
   "source": [
    "df_pyspark.sort(df_pyspark[\"mark\"].desc()).show()"
   ]
  },
  {
   "cell_type": "code",
   "execution_count": 33,
   "id": "3751742c",
   "metadata": {},
   "outputs": [
    {
     "name": "stdout",
     "output_type": "stream",
     "text": [
      "+---+-----------+-----+----+------+\n",
      "| id|       name|class|mark|gender|\n",
      "+---+-----------+-----+----+------+\n",
      "| 19|      Tinny| Nine|  18|  male|\n",
      "| 17|      Tumyu|  Six|  54|  male|\n",
      "|  3|     Arnold|Three|  55|  male|\n",
      "|  6|  Alex John| Four|  55|  male|\n",
      "| 10|   Big John| Four|  55|female|\n",
      "| 22|     Reggid|Seven|  55|female|\n",
      "| 29|Tess Played|Seven|  55|  male|\n",
      "|  4| Krish Star| Four|  60|female|\n",
      "|  5|  John Mike| Four|  60|female|\n",
      "| 20|     Jackly| Nine|  65|female|\n",
      "| 21| Babby John| Four|  69|female|\n",
      "| 34|   Gain Toe|Seven|  69|  male|\n",
      "|  1|   John Deo| Four|  75|female|\n",
      "| 18|      Honny| Five|  75|  male|\n",
      "|  7|My John Rob|Fifth|  78|  male|\n",
      "|  9|    Tes Qry|  Six|  78|  male|\n",
      "| 24|  Tiddy Now|Seven|  78|  male|\n",
      "| 23|      Herod|Eight|  79|  male|\n",
      "| 26|     Crelea|Seven|  79|  male|\n",
      "| 30|  Reppy Red|  Six|  79|female|\n",
      "+---+-----------+-----+----+------+\n",
      "only showing top 20 rows\n",
      "\n"
     ]
    }
   ],
   "source": [
    "df_pyspark.orderBy(\"mark\").show()"
   ]
  },
  {
   "cell_type": "code",
   "execution_count": null,
   "id": "dea76548",
   "metadata": {},
   "outputs": [],
   "source": []
  }
 ],
 "metadata": {
  "kernelspec": {
   "display_name": "Python 3 (ipykernel)",
   "language": "python",
   "name": "python3"
  },
  "language_info": {
   "codemirror_mode": {
    "name": "ipython",
    "version": 3
   },
   "file_extension": ".py",
   "mimetype": "text/x-python",
   "name": "python",
   "nbconvert_exporter": "python",
   "pygments_lexer": "ipython3",
   "version": "3.11.5"
  }
 },
 "nbformat": 4,
 "nbformat_minor": 5
}
